{
 "cells": [
  {
   "cell_type": "markdown",
   "metadata": {},
   "source": [
    "# Sentiment Analysis"
   ]
  },
  {
   "cell_type": "markdown",
   "metadata": {},
   "source": [
    "## Dependencies"
   ]
  },
  {
   "cell_type": "code",
   "execution_count": 29,
   "metadata": {},
   "outputs": [],
   "source": [
    "import re\n",
    "\n",
    "import numpy as np\n",
    "import pandas as pd\n",
    "\n",
    "# Visualization\n",
    "import seaborn as sns\n",
    "\n",
    "# Google cloud\n",
    "from google.oauth2 import service_account\n",
    "from google.cloud import bigquery\n",
    "\n",
    "from sklearn.model_selection import train_test_split\n",
    "from sklearn.metrics import classification_report, confusion_matrix\n",
    "\n",
    "from tensorflow import keras\n",
    "import keras.backend as K\n",
    "from keras.models import Sequential\n",
    "from keras.optimizer_v2.adagrad import Adagrad\n",
    "from keras.layers import Embedding, Dense, Flatten\n",
    "from keras.layers.convolutional import Conv1D, AveragePooling1D\n",
    "from keras.losses import CategoricalCrossentropy, BinaryCrossentropy\n",
    "from keras.preprocessing.text import Tokenizer\n",
    "from keras.preprocessing.sequence import pad_sequences\n",
    "\n",
    "from gensim.models import Word2Vec\n",
    "\n",
    "import emoji"
   ]
  },
  {
   "cell_type": "markdown",
   "metadata": {},
   "source": [
    "## Loading Data"
   ]
  },
  {
   "cell_type": "code",
   "execution_count": 30,
   "metadata": {},
   "outputs": [],
   "source": [
    "key_path = '../airflow/credentials/future-data-track-1-sapporo.json'\n",
    "credentials = service_account.Credentials.from_service_account_file(\n",
    "    key_path,\n",
    "    scopes=[\"https://www.googleapis.com/auth/cloud-platform\"]\n",
    ")\n",
    "\n",
    "bigquery_client = bigquery.Client(\n",
    "    project='future-data-track-1',\n",
    "    credentials=credentials\n",
    ")"
   ]
  },
  {
   "cell_type": "code",
   "execution_count": 31,
   "metadata": {},
   "outputs": [],
   "source": [
    "query = \"\"\"\n",
    "WITH t AS (\n",
    "  SELECT *\n",
    "  FROM `future-data-track-1.sapporo_mart.sentiment_analysis`\n",
    "),\n",
    "table_stats AS (\n",
    "  SELECT *, SUM(c) OVER() total \n",
    "  FROM (\n",
    "    SELECT rating, COUNT(*) c \n",
    "    FROM t\n",
    "    GROUP BY 1 \n",
    "    HAVING c>10000)\n",
    ")\n",
    "SELECT sample.*\n",
    "FROM (\n",
    "SELECT ARRAY_AGG(a ORDER BY RAND() LIMIT 60000) cat_samples, rating, ANY_VALUE(c) c\n",
    "FROM t a\n",
    "JOIN table_stats b\n",
    "USING(rating)\n",
    "WHERE sentiment != 1\n",
    "GROUP BY rating\n",
    "), UNNEST(cat_samples) sample WITH OFFSET off;\n",
    "\"\"\"\n",
    "\n",
    "query_job = bigquery_client.query(query)\n",
    "df = query_job.to_dataframe()"
   ]
  },
  {
   "cell_type": "code",
   "execution_count": 32,
   "metadata": {},
   "outputs": [
    {
     "data": {
      "text/html": [
       "<div>\n",
       "<style scoped>\n",
       "    .dataframe tbody tr th:only-of-type {\n",
       "        vertical-align: middle;\n",
       "    }\n",
       "\n",
       "    .dataframe tbody tr th {\n",
       "        vertical-align: top;\n",
       "    }\n",
       "\n",
       "    .dataframe thead th {\n",
       "        text-align: right;\n",
       "    }\n",
       "</style>\n",
       "<table border=\"1\" class=\"dataframe\">\n",
       "  <thead>\n",
       "    <tr style=\"text-align: right;\">\n",
       "      <th></th>\n",
       "      <th>review</th>\n",
       "      <th>rating</th>\n",
       "      <th>sentiment</th>\n",
       "    </tr>\n",
       "  </thead>\n",
       "  <tbody>\n",
       "    <tr>\n",
       "      <th>0</th>\n",
       "      <td>semoga pengiriman cepat dan barangnya ori</td>\n",
       "      <td>5</td>\n",
       "      <td>2</td>\n",
       "    </tr>\n",
       "    <tr>\n",
       "      <th>1</th>\n",
       "      <td>Snang blnja di toko pedia</td>\n",
       "      <td>5</td>\n",
       "      <td>2</td>\n",
       "    </tr>\n",
       "    <tr>\n",
       "      <th>2</th>\n",
       "      <td>Mantul</td>\n",
       "      <td>5</td>\n",
       "      <td>2</td>\n",
       "    </tr>\n",
       "    <tr>\n",
       "      <th>3</th>\n",
       "      <td>Best</td>\n",
       "      <td>5</td>\n",
       "      <td>2</td>\n",
       "    </tr>\n",
       "    <tr>\n",
       "      <th>4</th>\n",
       "      <td>Oke bgt</td>\n",
       "      <td>5</td>\n",
       "      <td>2</td>\n",
       "    </tr>\n",
       "  </tbody>\n",
       "</table>\n",
       "</div>"
      ],
      "text/plain": [
       "                                      review  rating  sentiment\n",
       "0  semoga pengiriman cepat dan barangnya ori       5          2\n",
       "1                  Snang blnja di toko pedia       5          2\n",
       "2                                     Mantul       5          2\n",
       "3                                       Best       5          2\n",
       "4                                    Oke bgt       5          2"
      ]
     },
     "execution_count": 32,
     "metadata": {},
     "output_type": "execute_result"
    }
   ],
   "source": [
    "df.head()"
   ]
  },
  {
   "cell_type": "code",
   "execution_count": 33,
   "metadata": {},
   "outputs": [
    {
     "data": {
      "text/plain": [
       "review       5\n",
       "rating       0\n",
       "sentiment    0\n",
       "dtype: int64"
      ]
     },
     "execution_count": 33,
     "metadata": {},
     "output_type": "execute_result"
    }
   ],
   "source": [
    "df.isna().sum()"
   ]
  },
  {
   "cell_type": "code",
   "execution_count": 34,
   "metadata": {},
   "outputs": [],
   "source": [
    "df = df.dropna(axis=0)"
   ]
  },
  {
   "cell_type": "code",
   "execution_count": 35,
   "metadata": {},
   "outputs": [
    {
     "name": "stdout",
     "output_type": "stream",
     "text": [
      "<class 'pandas.core.frame.DataFrame'>\n",
      "Int64Index: 239995 entries, 0 to 239999\n",
      "Data columns (total 3 columns):\n",
      " #   Column     Non-Null Count   Dtype \n",
      "---  ------     --------------   ----- \n",
      " 0   review     239995 non-null  object\n",
      " 1   rating     239995 non-null  int64 \n",
      " 2   sentiment  239995 non-null  int64 \n",
      "dtypes: int64(2), object(1)\n",
      "memory usage: 7.3+ MB\n"
     ]
    }
   ],
   "source": [
    "df.info()"
   ]
  },
  {
   "cell_type": "markdown",
   "metadata": {},
   "source": [
    "### Preprocessing"
   ]
  },
  {
   "cell_type": "code",
   "execution_count": 36,
   "metadata": {},
   "outputs": [],
   "source": [
    "def extract_emojis(sentence):\n",
    "    return re.findall(emoji.get_emoji_regexp(), sentence)"
   ]
  },
  {
   "cell_type": "code",
   "execution_count": 37,
   "metadata": {},
   "outputs": [],
   "source": [
    "def preprocessing_text(texts):\n",
    "    emojis = extract_emojis(texts)\n",
    "    texts = re.sub(r'<.*?>', '', texts)\n",
    "    texts = re.sub(r'[^a-zA-Z]', ' ', texts)\n",
    "    texts = list(filter(lambda x: x, [x.lower() for x in texts.split(\" \")]))\n",
    "\n",
    "    return texts + emojis"
   ]
  },
  {
   "cell_type": "code",
   "execution_count": 38,
   "metadata": {},
   "outputs": [],
   "source": [
    "df['review_cleaned'] = df['review'].apply(lambda x : preprocessing_text(x))"
   ]
  },
  {
   "cell_type": "code",
   "execution_count": 39,
   "metadata": {},
   "outputs": [
    {
     "data": {
      "text/html": [
       "<div>\n",
       "<style scoped>\n",
       "    .dataframe tbody tr th:only-of-type {\n",
       "        vertical-align: middle;\n",
       "    }\n",
       "\n",
       "    .dataframe tbody tr th {\n",
       "        vertical-align: top;\n",
       "    }\n",
       "\n",
       "    .dataframe thead th {\n",
       "        text-align: right;\n",
       "    }\n",
       "</style>\n",
       "<table border=\"1\" class=\"dataframe\">\n",
       "  <thead>\n",
       "    <tr style=\"text-align: right;\">\n",
       "      <th></th>\n",
       "      <th>review</th>\n",
       "      <th>rating</th>\n",
       "      <th>sentiment</th>\n",
       "      <th>review_cleaned</th>\n",
       "    </tr>\n",
       "  </thead>\n",
       "  <tbody>\n",
       "    <tr>\n",
       "      <th>0</th>\n",
       "      <td>semoga pengiriman cepat dan barangnya ori</td>\n",
       "      <td>5</td>\n",
       "      <td>2</td>\n",
       "      <td>[semoga, pengiriman, cepat, dan, barangnya, ori]</td>\n",
       "    </tr>\n",
       "    <tr>\n",
       "      <th>1</th>\n",
       "      <td>Snang blnja di toko pedia</td>\n",
       "      <td>5</td>\n",
       "      <td>2</td>\n",
       "      <td>[snang, blnja, di, toko, pedia]</td>\n",
       "    </tr>\n",
       "    <tr>\n",
       "      <th>2</th>\n",
       "      <td>Mantul</td>\n",
       "      <td>5</td>\n",
       "      <td>2</td>\n",
       "      <td>[mantul]</td>\n",
       "    </tr>\n",
       "    <tr>\n",
       "      <th>3</th>\n",
       "      <td>Best</td>\n",
       "      <td>5</td>\n",
       "      <td>2</td>\n",
       "      <td>[best]</td>\n",
       "    </tr>\n",
       "    <tr>\n",
       "      <th>4</th>\n",
       "      <td>Oke bgt</td>\n",
       "      <td>5</td>\n",
       "      <td>2</td>\n",
       "      <td>[oke, bgt]</td>\n",
       "    </tr>\n",
       "  </tbody>\n",
       "</table>\n",
       "</div>"
      ],
      "text/plain": [
       "                                      review  rating  sentiment  \\\n",
       "0  semoga pengiriman cepat dan barangnya ori       5          2   \n",
       "1                  Snang blnja di toko pedia       5          2   \n",
       "2                                     Mantul       5          2   \n",
       "3                                       Best       5          2   \n",
       "4                                    Oke bgt       5          2   \n",
       "\n",
       "                                     review_cleaned  \n",
       "0  [semoga, pengiriman, cepat, dan, barangnya, ori]  \n",
       "1                   [snang, blnja, di, toko, pedia]  \n",
       "2                                          [mantul]  \n",
       "3                                            [best]  \n",
       "4                                        [oke, bgt]  "
      ]
     },
     "execution_count": 39,
     "metadata": {},
     "output_type": "execute_result"
    }
   ],
   "source": [
    "df.head()"
   ]
  },
  {
   "cell_type": "code",
   "execution_count": 40,
   "metadata": {},
   "outputs": [
    {
     "name": "stdout",
     "output_type": "stream",
     "text": [
      "         word_length\n",
      "count  239995.000000\n",
      "mean       11.006583\n",
      "std        13.911868\n",
      "min         0.000000\n",
      "25%         2.000000\n",
      "50%         6.000000\n",
      "75%        14.000000\n",
      "max       264.000000\n",
      "word_length    28.0\n",
      "Name: 0.9, dtype: float64\n"
     ]
    }
   ],
   "source": [
    "word_length = []\n",
    "for row in df['review_cleaned']:\n",
    "    word_length.append(len(row))\n",
    "\n",
    "print(pd.DataFrame(word_length, columns=['word_length']).describe())\n",
    "print(pd.DataFrame(word_length, columns=['word_length']).quantile(0.90))"
   ]
  },
  {
   "cell_type": "code",
   "execution_count": 41,
   "metadata": {},
   "outputs": [],
   "source": [
    "tokenizer = Tokenizer(num_words=30000)"
   ]
  },
  {
   "cell_type": "code",
   "execution_count": 42,
   "metadata": {},
   "outputs": [
    {
     "name": "stdout",
     "output_type": "stream",
     "text": [
      "X_shape: (239995, 259), X_min: 0, X_max: 29999\n"
     ]
    }
   ],
   "source": [
    "tokenizer.fit_on_texts(df['review_cleaned'])\n",
    "seq = tokenizer.texts_to_sequences(df['review_cleaned'])\n",
    "X = pad_sequences(seq, padding='post')\n",
    "\n",
    "print(f'X_shape: {X.shape}, X_min: {np.min(X)}, X_max: {np.max(X)}')"
   ]
  },
  {
   "cell_type": "code",
   "execution_count": 43,
   "metadata": {},
   "outputs": [],
   "source": [
    "y = df['sentiment'].map({0:0, 2:1})"
   ]
  },
  {
   "cell_type": "markdown",
   "metadata": {},
   "source": [
    "### Train-test split"
   ]
  },
  {
   "cell_type": "code",
   "execution_count": 44,
   "metadata": {},
   "outputs": [
    {
     "name": "stdout",
     "output_type": "stream",
     "text": [
      "(153596, 259) (38400, 259) (47999, 259) (153596,) (38400,) (47999,)\n"
     ]
    }
   ],
   "source": [
    "X_train_valid, X_test, y_train_valid, y_test = train_test_split(X, y, test_size=0.2, random_state=42)\n",
    "X_train, X_valid, y_train, y_valid = train_test_split(X_train_valid, y_train_valid, test_size=0.2, random_state=42)\n",
    "print(X_train.shape, X_valid.shape, X_test.shape, y_train.shape, y_valid.shape, y_test.shape)"
   ]
  },
  {
   "cell_type": "markdown",
   "metadata": {},
   "source": [
    "## Prepare Embedding"
   ]
  },
  {
   "cell_type": "code",
   "execution_count": 45,
   "metadata": {},
   "outputs": [],
   "source": [
    "embedding = Word2Vec(df['review_cleaned'], vector_size=100, window=5, workers=2, min_count=2)"
   ]
  },
  {
   "cell_type": "code",
   "execution_count": 46,
   "metadata": {},
   "outputs": [
    {
     "name": "stdout",
     "output_type": "stream",
     "text": [
      "Vocabulary size: 28000\n"
     ]
    }
   ],
   "source": [
    "words = len(embedding.wv)\n",
    "print('Vocabulary size: %d' % words)"
   ]
  },
  {
   "cell_type": "code",
   "execution_count": 47,
   "metadata": {},
   "outputs": [],
   "source": [
    "def get_weight_matrix(embedding: Word2Vec, vocab):\n",
    "    vocab_size = len(vocab) + 1\n",
    "\n",
    "    weight_matrix = np.zeros((vocab_size, 100))\n",
    "\n",
    "    for word, i in vocab.items():\n",
    "        try:\n",
    "            weight_matrix[i] = embedding.wv.get_vector(word)\n",
    "        except:\n",
    "            continue\n",
    "    \n",
    "    return weight_matrix"
   ]
  },
  {
   "cell_type": "code",
   "execution_count": 48,
   "metadata": {},
   "outputs": [],
   "source": [
    "embedding_vectors = get_weight_matrix(embedding, tokenizer.word_index)"
   ]
  },
  {
   "cell_type": "code",
   "execution_count": 49,
   "metadata": {},
   "outputs": [],
   "source": [
    "vocab_size = len(tokenizer.word_index) + 1\n",
    "max_length = X.shape[1]"
   ]
  },
  {
   "cell_type": "code",
   "execution_count": 50,
   "metadata": {},
   "outputs": [],
   "source": [
    "def l2_norm1d(x):\n",
    "    x = x ** 2\n",
    "    output = K.sum(x, axis=1)\n",
    "    output  = K.sqrt(output)\n",
    "    return output"
   ]
  },
  {
   "cell_type": "markdown",
   "metadata": {},
   "source": [
    "## Create Model Layers"
   ]
  },
  {
   "cell_type": "code",
   "execution_count": 51,
   "metadata": {},
   "outputs": [
    {
     "name": "stdout",
     "output_type": "stream",
     "text": [
      "Model: \"sequential_1\"\n",
      "_________________________________________________________________\n",
      "Layer (type)                 Output Shape              Param #   \n",
      "=================================================================\n",
      "embedding_1 (Embedding)      (None, 259, 100)          6907800   \n",
      "_________________________________________________________________\n",
      "conv1d_1 (Conv1D)            (None, 130, 128)          64128     \n",
      "_________________________________________________________________\n",
      "average_pooling1d_1 (Average (None, 65, 128)           0         \n",
      "_________________________________________________________________\n",
      "flatten_1 (Flatten)          (None, 8320)              0         \n",
      "_________________________________________________________________\n",
      "dense_1 (Dense)              (None, 1)                 8321      \n",
      "=================================================================\n",
      "Total params: 6,980,249\n",
      "Trainable params: 6,980,249\n",
      "Non-trainable params: 0\n",
      "_________________________________________________________________\n"
     ]
    }
   ],
   "source": [
    "model = Sequential([\n",
    "    Embedding(input_dim=vocab_size, output_dim=100, weights=[embedding_vectors], input_length=max_length, trainable=True),\n",
    "    Conv1D(filters=128, kernel_size=5, activation='relu', padding='same', strides=2),\n",
    "    AveragePooling1D(pool_size=2),\n",
    "    Flatten(),\n",
    "    Dense(1, activation='sigmoid')\n",
    "])\n",
    "\n",
    "model.summary()"
   ]
  },
  {
   "cell_type": "markdown",
   "metadata": {},
   "source": [
    "## Training Model"
   ]
  },
  {
   "cell_type": "code",
   "execution_count": 52,
   "metadata": {},
   "outputs": [
    {
     "name": "stdout",
     "output_type": "stream",
     "text": [
      "Epoch 1/15\n",
      "4800/4800 [==============================] - 194s 40ms/step - loss: 0.4124 - accuracy: 0.8263 - val_loss: 0.3939 - val_accuracy: 0.8411\n",
      "Epoch 2/15\n",
      "4800/4800 [==============================] - 192s 40ms/step - loss: 0.3834 - accuracy: 0.8410 - val_loss: 0.3860 - val_accuracy: 0.8422\n",
      "Epoch 3/15\n",
      "4800/4800 [==============================] - 191s 40ms/step - loss: 0.3739 - accuracy: 0.8450 - val_loss: 0.3826 - val_accuracy: 0.8454\n",
      "Epoch 4/15\n",
      "4800/4800 [==============================] - 192s 40ms/step - loss: 0.3669 - accuracy: 0.8485 - val_loss: 0.3793 - val_accuracy: 0.8451\n",
      "Epoch 5/15\n",
      "4800/4800 [==============================] - 192s 40ms/step - loss: 0.3611 - accuracy: 0.8511 - val_loss: 0.3775 - val_accuracy: 0.8460\n",
      "Epoch 6/15\n",
      "4800/4800 [==============================] - 192s 40ms/step - loss: 0.3559 - accuracy: 0.8529 - val_loss: 0.3764 - val_accuracy: 0.8472\n",
      "Epoch 7/15\n",
      "4800/4800 [==============================] - 191s 40ms/step - loss: 0.3513 - accuracy: 0.8546 - val_loss: 0.3752 - val_accuracy: 0.8474\n",
      "Epoch 8/15\n",
      "4800/4800 [==============================] - 192s 40ms/step - loss: 0.3469 - accuracy: 0.8569 - val_loss: 0.3754 - val_accuracy: 0.8477\n",
      "Epoch 9/15\n",
      "4800/4800 [==============================] - 192s 40ms/step - loss: 0.3432 - accuracy: 0.8579 - val_loss: 0.3742 - val_accuracy: 0.8489\n",
      "Epoch 10/15\n",
      "4800/4800 [==============================] - 192s 40ms/step - loss: 0.3394 - accuracy: 0.8595 - val_loss: 0.3742 - val_accuracy: 0.8487\n",
      "Epoch 11/15\n",
      "4800/4800 [==============================] - 193s 40ms/step - loss: 0.3359 - accuracy: 0.8611 - val_loss: 0.3736 - val_accuracy: 0.8489\n",
      "Epoch 12/15\n",
      "4800/4800 [==============================] - 191s 40ms/step - loss: 0.3326 - accuracy: 0.8629 - val_loss: 0.3744 - val_accuracy: 0.8492\n",
      "Epoch 13/15\n",
      "4800/4800 [==============================] - 192s 40ms/step - loss: 0.3295 - accuracy: 0.8641 - val_loss: 0.3741 - val_accuracy: 0.8490\n",
      "Epoch 14/15\n",
      "4800/4800 [==============================] - 192s 40ms/step - loss: 0.3264 - accuracy: 0.8656 - val_loss: 0.3738 - val_accuracy: 0.8478\n",
      "Epoch 15/15\n",
      "4800/4800 [==============================] - 196s 41ms/step - loss: 0.3235 - accuracy: 0.8665 - val_loss: 0.3742 - val_accuracy: 0.8492\n"
     ]
    }
   ],
   "source": [
    "early_stopping_cb = keras.callbacks.EarlyStopping(patience=5, restore_best_weights=True)\n",
    "optimizer = Adagrad(learning_rate=0.01)\n",
    "model.compile(loss=BinaryCrossentropy(), optimizer=optimizer, metrics=['accuracy'])\n",
    "history = model.fit(X_train, y_train, batch_size=32, epochs=15, validation_data=(X_valid, y_valid), callbacks=[early_stopping_cb])"
   ]
  },
  {
   "cell_type": "code",
   "execution_count": 53,
   "metadata": {},
   "outputs": [
    {
     "data": {
      "text/plain": [
       "<AxesSubplot:>"
      ]
     },
     "execution_count": 53,
     "metadata": {},
     "output_type": "execute_result"
    },
    {
     "data": {
      "image/png": "[encoded data removed]",
      "text/plain": [
       "<Figure size 432x288 with 1 Axes>"
      ]
     },
     "metadata": {
      "needs_background": "light"
     },
     "output_type": "display_data"
    }
   ],
   "source": [
    "pd.DataFrame(history.history).plot()"
   ]
  },
  {
   "cell_type": "code",
   "execution_count": 54,
   "metadata": {},
   "outputs": [
    {
     "name": "stdout",
     "output_type": "stream",
     "text": [
      "              precision    recall  f1-score   support\n",
      "\n",
      "           0       0.85      0.84      0.84     24023\n",
      "           1       0.84      0.85      0.85     23976\n",
      "\n",
      "    accuracy                           0.85     47999\n",
      "   macro avg       0.85      0.85      0.85     47999\n",
      "weighted avg       0.85      0.85      0.85     47999\n",
      "\n"
     ]
    },
    {
     "data": {
      "text/plain": [
       "<AxesSubplot:>"
      ]
     },
     "execution_count": 54,
     "metadata": {},
     "output_type": "execute_result"
    },
    {
     "data": {
      "image/png": "[encoded data removed]",
      "text/plain": [
       "<Figure size 432x288 with 2 Axes>"
      ]
     },
     "metadata": {
      "needs_background": "light"
     },
     "output_type": "display_data"
    }
   ],
   "source": [
    "y_pred = (model.predict(X_test) > 0.5).astype(\"int32\")\n",
    "\n",
    "print(classification_report(y_test, y_pred))\n",
    "\n",
    "sns.heatmap(confusion_matrix(y_test, y_pred), \n",
    "            annot=True, fmt='.0f', \n",
    "            xticklabels=['Predicted negative', 'Predicted positive'], \n",
    "            yticklabels=['Negative', 'Positive'])"
   ]
  },
  {
   "cell_type": "markdown",
   "metadata": {},
   "source": [
    "## Serializing Model"
   ]
  },
  {
   "cell_type": "code",
   "execution_count": 55,
   "metadata": {},
   "outputs": [],
   "source": [
    "MODEL_NAME = 'CNN_Sentiment'\n",
    "MODEL_VERSION = (3, 0, 1, 'E')\n",
    "MODEL_DIRNAME = '_'.join([MODEL_NAME, '.'.join(map(str, MODEL_VERSION))])\n",
    "MODEL_DIRNAME = 'Sentiment Analysis/CNN/' + MODEL_DIRNAME"
   ]
  },
  {
   "cell_type": "code",
   "execution_count": 56,
   "metadata": {},
   "outputs": [
    {
     "name": "stdout",
     "output_type": "stream",
     "text": [
      "INFO:tensorflow:Assets written to: CNN_Sentiment_3.0.1.E/assets\n"
     ]
    }
   ],
   "source": [
    "model.save(MODEL_DIRNAME)"
   ]
  }
 ],
 "metadata": {
  "interpreter": {
   "hash": "557dfa72913784ee823994b50ca5bf1f4543af9a8140e691f7ffa1d41b7d01ae"
  },
  "kernelspec": {
   "display_name": "Python 3.6.15 64-bit ('venv': venv)",
   "language": "python",
   "name": "python3"
  },
  "language_info": {
   "codemirror_mode": {
    "name": "ipython",
    "version": 3
   },
   "file_extension": ".py",
   "mimetype": "text/x-python",
   "name": "python",
   "nbconvert_exporter": "python",
   "pygments_lexer": "ipython3",
   "version": "3.6.15"
  },
  "orig_nbformat": 4
 },
 "nbformat": 4,
 "nbformat_minor": 2
}
