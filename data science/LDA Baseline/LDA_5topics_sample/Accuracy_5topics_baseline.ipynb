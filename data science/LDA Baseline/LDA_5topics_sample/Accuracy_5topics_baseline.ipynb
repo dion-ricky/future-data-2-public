{
  "nbformat": 4,
  "nbformat_minor": 0,
  "metadata": {
    "colab": {
      "name": "Accuracy_5topics_baseline.ipynb",
      "provenance": []
    },
    "kernelspec": {
      "name": "python3",
      "display_name": "Python 3"
    },
    "language_info": {
      "name": "python"
    }
  },
  "cells": [
    {
      "cell_type": "code",
      "execution_count": 7,
      "metadata": {
        "id": "Zml2dLdv4Cvv"
      },
      "outputs": [],
      "source": [
        "import pandas as pd\n",
        "df = pd.read_csv('data_processed_5_202202102031.csv')"
      ]
    },
    {
      "cell_type": "code",
      "source": [
        "df.dropna(subset=['Label'], inplace=True)"
      ],
      "metadata": {
        "id": "z8TnERJ3cjQl"
      },
      "execution_count": 8,
      "outputs": []
    },
    {
      "cell_type": "code",
      "source": [
        "df[['Label', 'dominant_topic']] = df[['Label', 'dominant_topic']].astype(int)"
      ],
      "metadata": {
        "id": "nOIeJY4Ocl0i"
      },
      "execution_count": 9,
      "outputs": []
    },
    {
      "cell_type": "code",
      "source": [
        "from sklearn.metrics import classification_report\n",
        "\n",
        "print(classification_report(df['Label'], df['dominant_topic']))"
      ],
      "metadata": {
        "colab": {
          "base_uri": "https://localhost:8080/"
        },
        "id": "CyButiVLcnnj",
        "outputId": "3bdf6879-f695-436d-d66d-032a369397dd"
      },
      "execution_count": 10,
      "outputs": [
        {
          "output_type": "stream",
          "name": "stdout",
          "text": [
            "              precision    recall  f1-score   support\n",
            "\n",
            "           0       0.78      0.82      0.79        38\n",
            "           1       1.00      0.80      0.89        50\n",
            "           2       0.70      1.00      0.82        28\n",
            "           3       0.88      0.81      0.84        43\n",
            "           4       0.95      0.93      0.94        41\n",
            "\n",
            "    accuracy                           0.86       200\n",
            "   macro avg       0.86      0.87      0.86       200\n",
            "weighted avg       0.88      0.86      0.86       200\n",
            "\n"
          ]
        }
      ]
    },
    {
      "cell_type": "code",
      "source": [
        "df_90 = df[df['topic_perc_contrib']>= 0.9]"
      ],
      "metadata": {
        "id": "DFOjOM3AcpBP"
      },
      "execution_count": 11,
      "outputs": []
    },
    {
      "cell_type": "code",
      "source": [
        "from sklearn.metrics import classification_report\n",
        "\n",
        "print(classification_report(df_90['Label'], df_90['dominant_topic']))"
      ],
      "metadata": {
        "colab": {
          "base_uri": "https://localhost:8080/"
        },
        "id": "tFwcwoGmcq4E",
        "outputId": "f4e95089-931d-46b9-80ae-148b88dc658b"
      },
      "execution_count": 12,
      "outputs": [
        {
          "output_type": "stream",
          "name": "stdout",
          "text": [
            "              precision    recall  f1-score   support\n",
            "\n",
            "           4       1.00      1.00      1.00         2\n",
            "\n",
            "    accuracy                           1.00         2\n",
            "   macro avg       1.00      1.00      1.00         2\n",
            "weighted avg       1.00      1.00      1.00         2\n",
            "\n"
          ]
        }
      ]
    }
  ]
}