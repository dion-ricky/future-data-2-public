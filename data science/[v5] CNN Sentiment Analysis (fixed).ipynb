{
 "cells": [
  {
   "cell_type": "markdown",
   "metadata": {},
   "source": [
    "# Sentiment Analysis"
   ]
  },
  {
   "cell_type": "markdown",
   "metadata": {},
   "source": [
    "## Dependencies"
   ]
  },
  {
   "cell_type": "code",
   "execution_count": 1,
   "metadata": {},
   "outputs": [],
   "source": [
    "import os\n",
    "import re\n",
    "\n",
    "import numpy as np\n",
    "import pandas as pd\n",
    "\n",
    "import seaborn as sns\n",
    "\n",
    "from google.oauth2 import service_account\n",
    "from google.cloud import bigquery\n",
    "\n",
    "from sklearn.model_selection import train_test_split\n",
    "from sklearn.metrics import classification_report, confusion_matrix\n",
    "\n",
    "from tensorflow import keras\n",
    "from tensorflow.keras import Model\n",
    "from keras.optimizer_v2.adagrad import Adagrad\n",
    "from keras.layers import Embedding, Dense, concatenate, Input, \\\n",
    "    GlobalMaxPooling1D, Dropout\n",
    "from keras.layers.convolutional import Conv1D\n",
    "from keras.losses import BinaryCrossentropy\n",
    "from keras.preprocessing.text import tokenizer_from_json\n",
    "from keras.preprocessing.sequence import pad_sequences\n",
    "\n",
    "from gensim.models import Word2Vec"
   ]
  },
  {
   "cell_type": "markdown",
   "metadata": {},
   "source": [
    "## Loading Data"
   ]
  },
  {
   "cell_type": "code",
   "execution_count": 2,
   "metadata": {},
   "outputs": [],
   "source": [
    "key_path = '../airflow/credentials/future-data-track-1-sapporo.json'\n",
    "credentials = service_account.Credentials.from_service_account_file(\n",
    "    key_path,\n",
    "    scopes=[\"https://www.googleapis.com/auth/cloud-platform\"]\n",
    ")\n",
    "\n",
    "bigquery_client = bigquery.Client(\n",
    "    project='future-data-track-1',\n",
    "    credentials=credentials\n",
    ")"
   ]
  },
  {
   "cell_type": "code",
   "execution_count": 3,
   "metadata": {},
   "outputs": [],
   "source": [
    "query = \"\"\"\n",
    "SELECT * FROM `future-data-track-1.sapporo_mart.sampled_sentiment_analysis`;\n",
    "\"\"\"\n",
    "\n",
    "query_job = bigquery_client.query(query)\n",
    "df = query_job.to_dataframe()"
   ]
  },
  {
   "cell_type": "code",
   "execution_count": 4,
   "metadata": {},
   "outputs": [
    {
     "data": {
      "text/html": [
       "<div>\n",
       "<style scoped>\n",
       "    .dataframe tbody tr th:only-of-type {\n",
       "        vertical-align: middle;\n",
       "    }\n",
       "\n",
       "    .dataframe tbody tr th {\n",
       "        vertical-align: top;\n",
       "    }\n",
       "\n",
       "    .dataframe thead th {\n",
       "        text-align: right;\n",
       "    }\n",
       "</style>\n",
       "<table border=\"1\" class=\"dataframe\">\n",
       "  <thead>\n",
       "    <tr style=\"text-align: right;\">\n",
       "      <th></th>\n",
       "      <th>review</th>\n",
       "      <th>rating</th>\n",
       "      <th>sentiment</th>\n",
       "    </tr>\n",
       "  </thead>\n",
       "  <tbody>\n",
       "    <tr>\n",
       "      <th>0</th>\n",
       "      <td>Ok siap</td>\n",
       "      <td>1</td>\n",
       "      <td>0</td>\n",
       "    </tr>\n",
       "    <tr>\n",
       "      <th>1</th>\n",
       "      <td>Banyak toko yg beralamat dijakarta eh ternyata...</td>\n",
       "      <td>1</td>\n",
       "      <td>0</td>\n",
       "    </tr>\n",
       "    <tr>\n",
       "      <th>2</th>\n",
       "      <td>Payah payaaaaaaaaaahh!!! Udah terang\" dapet ba...</td>\n",
       "      <td>1</td>\n",
       "      <td>0</td>\n",
       "    </tr>\n",
       "    <tr>\n",
       "      <th>3</th>\n",
       "      <td>Toko yg gajelas, gue pesen baju motif army dik...</td>\n",
       "      <td>1</td>\n",
       "      <td>0</td>\n",
       "    </tr>\n",
       "    <tr>\n",
       "      <th>4</th>\n",
       "      <td>Ngentod</td>\n",
       "      <td>1</td>\n",
       "      <td>0</td>\n",
       "    </tr>\n",
       "  </tbody>\n",
       "</table>\n",
       "</div>"
      ],
      "text/plain": [
       "                                              review  rating  sentiment\n",
       "0                                            Ok siap       1          0\n",
       "1  Banyak toko yg beralamat dijakarta eh ternyata...       1          0\n",
       "2  Payah payaaaaaaaaaahh!!! Udah terang\" dapet ba...       1          0\n",
       "3  Toko yg gajelas, gue pesen baju motif army dik...       1          0\n",
       "4                                            Ngentod       1          0"
      ]
     },
     "execution_count": 4,
     "metadata": {},
     "output_type": "execute_result"
    }
   ],
   "source": [
    "df.head()"
   ]
  },
  {
   "cell_type": "code",
   "execution_count": 5,
   "metadata": {},
   "outputs": [
    {
     "data": {
      "text/plain": [
       "review       0\n",
       "rating       0\n",
       "sentiment    0\n",
       "dtype: int64"
      ]
     },
     "execution_count": 5,
     "metadata": {},
     "output_type": "execute_result"
    }
   ],
   "source": [
    "df.isna().sum()"
   ]
  },
  {
   "cell_type": "code",
   "execution_count": 6,
   "metadata": {},
   "outputs": [],
   "source": [
    "df = df.dropna(axis=0)"
   ]
  },
  {
   "cell_type": "code",
   "execution_count": 7,
   "metadata": {},
   "outputs": [
    {
     "name": "stdout",
     "output_type": "stream",
     "text": [
      "<class 'pandas.core.frame.DataFrame'>\n",
      "Int64Index: 264000 entries, 0 to 263999\n",
      "Data columns (total 3 columns):\n",
      " #   Column     Non-Null Count   Dtype \n",
      "---  ------     --------------   ----- \n",
      " 0   review     264000 non-null  object\n",
      " 1   rating     264000 non-null  int64 \n",
      " 2   sentiment  264000 non-null  int64 \n",
      "dtypes: int64(2), object(1)\n",
      "memory usage: 8.1+ MB\n"
     ]
    }
   ],
   "source": [
    "df.info()"
   ]
  },
  {
   "cell_type": "markdown",
   "metadata": {},
   "source": [
    "### Preprocessing"
   ]
  },
  {
   "cell_type": "code",
   "execution_count": 8,
   "metadata": {},
   "outputs": [],
   "source": [
    "def preprocessing_text(texts):\n",
    "    texts = re.sub(r'<.*?>', '', texts)\n",
    "    texts = re.sub(r'[^a-zA-Z]', ' ', texts)\n",
    "    texts = list(filter(lambda x: x, [x.lower() for x in texts.split(\" \")]))\n",
    "\n",
    "    return texts"
   ]
  },
  {
   "cell_type": "code",
   "execution_count": 9,
   "metadata": {},
   "outputs": [],
   "source": [
    "df['review_cleaned'] = df['review'].apply(lambda x : preprocessing_text(x))"
   ]
  },
  {
   "cell_type": "code",
   "execution_count": 10,
   "metadata": {},
   "outputs": [
    {
     "data": {
      "text/html": [
       "<div>\n",
       "<style scoped>\n",
       "    .dataframe tbody tr th:only-of-type {\n",
       "        vertical-align: middle;\n",
       "    }\n",
       "\n",
       "    .dataframe tbody tr th {\n",
       "        vertical-align: top;\n",
       "    }\n",
       "\n",
       "    .dataframe thead th {\n",
       "        text-align: right;\n",
       "    }\n",
       "</style>\n",
       "<table border=\"1\" class=\"dataframe\">\n",
       "  <thead>\n",
       "    <tr style=\"text-align: right;\">\n",
       "      <th></th>\n",
       "      <th>review</th>\n",
       "      <th>rating</th>\n",
       "      <th>sentiment</th>\n",
       "      <th>review_cleaned</th>\n",
       "    </tr>\n",
       "  </thead>\n",
       "  <tbody>\n",
       "    <tr>\n",
       "      <th>0</th>\n",
       "      <td>Ok siap</td>\n",
       "      <td>1</td>\n",
       "      <td>0</td>\n",
       "      <td>[ok, siap]</td>\n",
       "    </tr>\n",
       "    <tr>\n",
       "      <th>1</th>\n",
       "      <td>Banyak toko yg beralamat dijakarta eh ternyata...</td>\n",
       "      <td>1</td>\n",
       "      <td>0</td>\n",
       "      <td>[banyak, toko, yg, beralamat, dijakarta, eh, t...</td>\n",
       "    </tr>\n",
       "    <tr>\n",
       "      <th>2</th>\n",
       "      <td>Payah payaaaaaaaaaahh!!! Udah terang\" dapet ba...</td>\n",
       "      <td>1</td>\n",
       "      <td>0</td>\n",
       "      <td>[payah, payaaaaaaaaaahh, udah, terang, dapet, ...</td>\n",
       "    </tr>\n",
       "    <tr>\n",
       "      <th>3</th>\n",
       "      <td>Toko yg gajelas, gue pesen baju motif army dik...</td>\n",
       "      <td>1</td>\n",
       "      <td>0</td>\n",
       "      <td>[toko, yg, gajelas, gue, pesen, baju, motif, a...</td>\n",
       "    </tr>\n",
       "    <tr>\n",
       "      <th>4</th>\n",
       "      <td>Ngentod</td>\n",
       "      <td>1</td>\n",
       "      <td>0</td>\n",
       "      <td>[ngentod]</td>\n",
       "    </tr>\n",
       "  </tbody>\n",
       "</table>\n",
       "</div>"
      ],
      "text/plain": [
       "                                              review  rating  sentiment  \\\n",
       "0                                            Ok siap       1          0   \n",
       "1  Banyak toko yg beralamat dijakarta eh ternyata...       1          0   \n",
       "2  Payah payaaaaaaaaaahh!!! Udah terang\" dapet ba...       1          0   \n",
       "3  Toko yg gajelas, gue pesen baju motif army dik...       1          0   \n",
       "4                                            Ngentod       1          0   \n",
       "\n",
       "                                      review_cleaned  \n",
       "0                                         [ok, siap]  \n",
       "1  [banyak, toko, yg, beralamat, dijakarta, eh, t...  \n",
       "2  [payah, payaaaaaaaaaahh, udah, terang, dapet, ...  \n",
       "3  [toko, yg, gajelas, gue, pesen, baju, motif, a...  \n",
       "4                                          [ngentod]  "
      ]
     },
     "execution_count": 10,
     "metadata": {},
     "output_type": "execute_result"
    }
   ],
   "source": [
    "df.head()"
   ]
  },
  {
   "cell_type": "code",
   "execution_count": 11,
   "metadata": {},
   "outputs": [],
   "source": [
    "tokenizer_file = open('Tokenizer/tokens_30k.json', 'r')\n",
    "\n",
    "tokenizer = tokenizer_from_json(tokenizer_file.read())\n",
    "\n",
    "tokenizer_file.close()"
   ]
  },
  {
   "cell_type": "code",
   "execution_count": 12,
   "metadata": {},
   "outputs": [
    {
     "name": "stdout",
     "output_type": "stream",
     "text": [
      "X_shape: (264000, 120), X_min: 0, X_max: 29999\n"
     ]
    }
   ],
   "source": [
    "seq = tokenizer.texts_to_sequences(df['review_cleaned'])\n",
    "X = pad_sequences(seq, maxlen=120, padding='post')\n",
    "\n",
    "print(f'X_shape: {X.shape}, X_min: {np.min(X)}, X_max: {np.max(X)}')"
   ]
  },
  {
   "cell_type": "code",
   "execution_count": 13,
   "metadata": {},
   "outputs": [],
   "source": [
    "y = df['sentiment'].map({0:0, 2:1})"
   ]
  },
  {
   "cell_type": "markdown",
   "metadata": {},
   "source": [
    "### Train-test split"
   ]
  },
  {
   "cell_type": "code",
   "execution_count": 14,
   "metadata": {},
   "outputs": [
    {
     "name": "stdout",
     "output_type": "stream",
     "text": [
      "(168960, 120) (42240, 120) (52800, 120) (168960,) (42240,) (52800,)\n"
     ]
    }
   ],
   "source": [
    "X_train_valid, X_test, y_train_valid, y_test = train_test_split(X, y, test_size=0.2, random_state=42)\n",
    "X_train, X_valid, y_train, y_valid = train_test_split(X_train_valid, y_train_valid, test_size=0.2, random_state=42)\n",
    "print(X_train.shape, X_valid.shape, X_test.shape, y_train.shape, y_valid.shape, y_test.shape)"
   ]
  },
  {
   "cell_type": "markdown",
   "metadata": {},
   "source": [
    "## Prepare Embedding"
   ]
  },
  {
   "cell_type": "code",
   "execution_count": 15,
   "metadata": {},
   "outputs": [],
   "source": [
    "EMBEDDING_FILEPATH = 'Embedding/w2v_emoji_sw_v4.w2v'"
   ]
  },
  {
   "cell_type": "code",
   "execution_count": 16,
   "metadata": {},
   "outputs": [],
   "source": [
    "embedding = Word2Vec.load(EMBEDDING_FILEPATH)"
   ]
  },
  {
   "cell_type": "code",
   "execution_count": 17,
   "metadata": {},
   "outputs": [
    {
     "name": "stdout",
     "output_type": "stream",
     "text": [
      "Vocabulary size: 90294\n"
     ]
    }
   ],
   "source": [
    "words = len(embedding.wv)\n",
    "print('Vocabulary size: %d' % words)"
   ]
  },
  {
   "cell_type": "code",
   "execution_count": 18,
   "metadata": {},
   "outputs": [],
   "source": [
    "def get_weight_matrix(embedding: Word2Vec, vocab):\n",
    "    vocab_size = len(vocab) + 1\n",
    "\n",
    "    weight_matrix = np.zeros((vocab_size, 100))\n",
    "\n",
    "    for word, i in vocab.items():\n",
    "        try:\n",
    "            weight_matrix[i] = embedding.wv.get_vector(word)\n",
    "        except:\n",
    "            continue\n",
    "    \n",
    "    return weight_matrix"
   ]
  },
  {
   "cell_type": "code",
   "execution_count": 19,
   "metadata": {},
   "outputs": [],
   "source": [
    "embedding_vectors = get_weight_matrix(embedding, tokenizer.word_index)"
   ]
  },
  {
   "cell_type": "code",
   "execution_count": 20,
   "metadata": {},
   "outputs": [],
   "source": [
    "vocab_size = len(tokenizer.word_index) + 1\n",
    "max_length = X.shape[1]"
   ]
  },
  {
   "cell_type": "markdown",
   "metadata": {},
   "source": [
    "## Create Model Layers"
   ]
  },
  {
   "cell_type": "code",
   "execution_count": 21,
   "metadata": {},
   "outputs": [
    {
     "name": "stdout",
     "output_type": "stream",
     "text": [
      "Model: \"model\"\n",
      "__________________________________________________________________________________________________\n",
      "Layer (type)                    Output Shape         Param #     Connected to                     \n",
      "==================================================================================================\n",
      "input_1 (InputLayer)            [(None, 120)]        0                                            \n",
      "__________________________________________________________________________________________________\n",
      "embedding (Embedding)           (None, 120, 100)     4536200     input_1[0][0]                    \n",
      "__________________________________________________________________________________________________\n",
      "conv1d (Conv1D)                 (None, 60, 128)      25728       embedding[0][0]                  \n",
      "__________________________________________________________________________________________________\n",
      "conv1d_1 (Conv1D)               (None, 60, 128)      38528       embedding[0][0]                  \n",
      "__________________________________________________________________________________________________\n",
      "conv1d_2 (Conv1D)               (None, 60, 128)      51328       embedding[0][0]                  \n",
      "__________________________________________________________________________________________________\n",
      "conv1d_3 (Conv1D)               (None, 60, 128)      64128       embedding[0][0]                  \n",
      "__________________________________________________________________________________________________\n",
      "conv1d_4 (Conv1D)               (None, 60, 128)      76928       embedding[0][0]                  \n",
      "__________________________________________________________________________________________________\n",
      "global_max_pooling1d (GlobalMax (None, 128)          0           conv1d[0][0]                     \n",
      "__________________________________________________________________________________________________\n",
      "global_max_pooling1d_1 (GlobalM (None, 128)          0           conv1d_1[0][0]                   \n",
      "__________________________________________________________________________________________________\n",
      "global_max_pooling1d_2 (GlobalM (None, 128)          0           conv1d_2[0][0]                   \n",
      "__________________________________________________________________________________________________\n",
      "global_max_pooling1d_3 (GlobalM (None, 128)          0           conv1d_3[0][0]                   \n",
      "__________________________________________________________________________________________________\n",
      "global_max_pooling1d_4 (GlobalM (None, 128)          0           conv1d_4[0][0]                   \n",
      "__________________________________________________________________________________________________\n",
      "concatenate (Concatenate)       (None, 640)          0           global_max_pooling1d[0][0]       \n",
      "                                                                 global_max_pooling1d_1[0][0]     \n",
      "                                                                 global_max_pooling1d_2[0][0]     \n",
      "                                                                 global_max_pooling1d_3[0][0]     \n",
      "                                                                 global_max_pooling1d_4[0][0]     \n",
      "__________________________________________________________________________________________________\n",
      "dropout (Dropout)               (None, 640)          0           concatenate[0][0]                \n",
      "__________________________________________________________________________________________________\n",
      "dense (Dense)                   (None, 128)          82048       dropout[0][0]                    \n",
      "__________________________________________________________________________________________________\n",
      "dropout_1 (Dropout)             (None, 128)          0           dense[0][0]                      \n",
      "__________________________________________________________________________________________________\n",
      "dense_1 (Dense)                 (None, 1)            129         dropout_1[0][0]                  \n",
      "==================================================================================================\n",
      "Total params: 4,875,017\n",
      "Trainable params: 4,875,017\n",
      "Non-trainable params: 0\n",
      "__________________________________________________________________________________________________\n"
     ]
    }
   ],
   "source": [
    "embedding = Embedding(input_dim=vocab_size, output_dim=100, weights=[embedding_vectors], input_length=max_length, trainable=True)\n",
    "\n",
    "sequence_input = Input(shape=(max_length,))\n",
    "l_embedding = embedding(sequence_input)\n",
    "\n",
    "convs = []\n",
    "\n",
    "filter_sizes = [2,3,4,5,6]\n",
    "\n",
    "for filter_size in filter_sizes:\n",
    "    l_conv = Conv1D(filters=128, kernel_size=filter_size, activation='relu',\n",
    "                    padding='same', strides=2)(l_embedding)\n",
    "    \n",
    "    l_pool = GlobalMaxPooling1D()(l_conv)\n",
    "    convs.append(l_pool)\n",
    "\n",
    "l_merge = concatenate(convs, axis=1)\n",
    "\n",
    "x = Dropout(0.1)(l_merge)\n",
    "x = Dense(128, activation='relu')(x)\n",
    "x = Dropout(0.2)(x)\n",
    "\n",
    "preds = Dense(1, activation='sigmoid')(x)\n",
    "\n",
    "model = Model(sequence_input, preds)\n",
    "model.summary()"
   ]
  },
  {
   "cell_type": "markdown",
   "metadata": {},
   "source": [
    "## Training Model"
   ]
  },
  {
   "cell_type": "code",
   "execution_count": 22,
   "metadata": {},
   "outputs": [
    {
     "name": "stdout",
     "output_type": "stream",
     "text": [
      "Epoch 1/15\n",
      "5280/5280 [==============================] - 472s 89ms/step - loss: 0.4110 - accuracy: 0.8314 - val_loss: 0.3732 - val_accuracy: 0.8471\n",
      "Epoch 2/15\n",
      "5280/5280 [==============================] - 456s 86ms/step - loss: 0.3684 - accuracy: 0.8499 - val_loss: 0.3613 - val_accuracy: 0.8534\n",
      "Epoch 3/15\n",
      "5280/5280 [==============================] - 450s 85ms/step - loss: 0.3536 - accuracy: 0.8574 - val_loss: 0.3561 - val_accuracy: 0.8560\n",
      "Epoch 4/15\n",
      "5280/5280 [==============================] - 434s 82ms/step - loss: 0.3434 - accuracy: 0.8612 - val_loss: 0.3554 - val_accuracy: 0.8564\n",
      "Epoch 5/15\n",
      "5280/5280 [==============================] - 435s 82ms/step - loss: 0.3337 - accuracy: 0.8651 - val_loss: 0.3549 - val_accuracy: 0.8568\n",
      "Epoch 6/15\n",
      "5280/5280 [==============================] - 437s 83ms/step - loss: 0.3250 - accuracy: 0.8684 - val_loss: 0.3584 - val_accuracy: 0.8579\n",
      "Epoch 7/15\n",
      "5280/5280 [==============================] - 443s 84ms/step - loss: 0.3167 - accuracy: 0.8717 - val_loss: 0.3536 - val_accuracy: 0.8583\n",
      "Epoch 8/15\n",
      "5280/5280 [==============================] - 438s 83ms/step - loss: 0.3091 - accuracy: 0.8744 - val_loss: 0.3579 - val_accuracy: 0.8581\n",
      "Epoch 9/15\n",
      "5280/5280 [==============================] - 440s 83ms/step - loss: 0.3012 - accuracy: 0.8780 - val_loss: 0.3602 - val_accuracy: 0.8586\n",
      "Epoch 10/15\n",
      "5280/5280 [==============================] - 444s 84ms/step - loss: 0.2943 - accuracy: 0.8810 - val_loss: 0.3615 - val_accuracy: 0.8557\n",
      "Epoch 11/15\n",
      "5280/5280 [==============================] - 450s 85ms/step - loss: 0.2859 - accuracy: 0.8840 - val_loss: 0.3612 - val_accuracy: 0.8576\n",
      "Epoch 12/15\n",
      "5280/5280 [==============================] - 445s 84ms/step - loss: 0.2782 - accuracy: 0.8878 - val_loss: 0.3710 - val_accuracy: 0.8573\n"
     ]
    }
   ],
   "source": [
    "early_stopping_cb = keras.callbacks.EarlyStopping(patience=5, restore_best_weights=True)\n",
    "optimizer = Adagrad(learning_rate=0.01)\n",
    "model.compile(loss=BinaryCrossentropy(), optimizer=optimizer, metrics=['accuracy'])\n",
    "history = model.fit(X_train, y_train, batch_size=32, epochs=15, validation_data=(X_valid, y_valid), callbacks=[early_stopping_cb])"
   ]
  },
  {
   "cell_type": "code",
   "execution_count": 23,
   "metadata": {},
   "outputs": [
    {
     "data": {
      "text/plain": [
       "<AxesSubplot:>"
      ]
     },
     "execution_count": 23,
     "metadata": {},
     "output_type": "execute_result"
    },
    {
     "data": {
      "image/png": "[encoded data removed]",
      "text/plain": [
       "<Figure size 432x288 with 1 Axes>"
      ]
     },
     "metadata": {
      "needs_background": "light"
     },
     "output_type": "display_data"
    }
   ],
   "source": [
    "pd.DataFrame(history.history).plot()"
   ]
  },
  {
   "cell_type": "code",
   "execution_count": 24,
   "metadata": {},
   "outputs": [
    {
     "name": "stdout",
     "output_type": "stream",
     "text": [
      "              precision    recall  f1-score   support\n",
      "\n",
      "           0       0.86      0.85      0.85     26251\n",
      "           1       0.86      0.86      0.86     26549\n",
      "\n",
      "    accuracy                           0.86     52800\n",
      "   macro avg       0.86      0.86      0.86     52800\n",
      "weighted avg       0.86      0.86      0.86     52800\n",
      "\n"
     ]
    },
    {
     "data": {
      "text/plain": [
       "<AxesSubplot:>"
      ]
     },
     "execution_count": 24,
     "metadata": {},
     "output_type": "execute_result"
    },
    {
     "data": {
      "image/png": "[encoded data removed]",
      "text/plain": [
       "<Figure size 432x288 with 2 Axes>"
      ]
     },
     "metadata": {
      "needs_background": "light"
     },
     "output_type": "display_data"
    }
   ],
   "source": [
    "y_pred = (model.predict(X_test) > 0.5).astype(\"int32\")\n",
    "\n",
    "print(classification_report(y_test, y_pred))\n",
    "\n",
    "sns.heatmap(confusion_matrix(y_test, y_pred), \n",
    "            annot=True, fmt='.0f', \n",
    "            xticklabels=['Predicted negative', 'Predicted positive'], \n",
    "            yticklabels=['Negative', 'Positive'])"
   ]
  },
  {
   "cell_type": "markdown",
   "metadata": {},
   "source": [
    "## Serializing Model"
   ]
  },
  {
   "cell_type": "code",
   "execution_count": 25,
   "metadata": {},
   "outputs": [],
   "source": [
    "MODEL_NAME = 'CNN_Sentiment'\n",
    "MODEL_VERSION = (5, 0)\n",
    "MODEL_DIRNAME = '_'.join([MODEL_NAME, '.'.join(map(str, MODEL_VERSION))])\n",
    "MODEL_DIRNAME = os.path.join('Sentiment Analysis', 'CNN', MODEL_DIRNAME)"
   ]
  },
  {
   "cell_type": "code",
   "execution_count": 26,
   "metadata": {},
   "outputs": [
    {
     "name": "stdout",
     "output_type": "stream",
     "text": [
      "INFO:tensorflow:Assets written to: CNN_Sentiment_5.0/assets\n"
     ]
    }
   ],
   "source": [
    "model.save(MODEL_DIRNAME)"
   ]
  }
 ],
 "metadata": {
  "interpreter": {
   "hash": "557dfa72913784ee823994b50ca5bf1f4543af9a8140e691f7ffa1d41b7d01ae"
  },
  "kernelspec": {
   "display_name": "Python 3.6.15 64-bit ('venv': venv)",
   "language": "python",
   "name": "python3"
  },
  "language_info": {
   "codemirror_mode": {
    "name": "ipython",
    "version": 3
   },
   "file_extension": ".py",
   "mimetype": "text/x-python",
   "name": "python",
   "nbconvert_exporter": "python",
   "pygments_lexer": "ipython3",
   "version": "3.6.15"
  },
  "orig_nbformat": 4
 },
 "nbformat": 4,
 "nbformat_minor": 2
}
