{
 "cells": [
  {
   "cell_type": "markdown",
   "metadata": {},
   "source": [
    "# Sentiment Analysis"
   ]
  },
  {
   "cell_type": "markdown",
   "metadata": {},
   "source": [
    "## Dependencies"
   ]
  },
  {
   "cell_type": "code",
   "execution_count": 1,
   "metadata": {},
   "outputs": [],
   "source": [
    "# Fetch saved model if needed\n",
    "#!wget -O ./'Sentiment Analysis'/ignore/Baseline_RF_Sentiment_4.0.E/saved_model1.joblib https://storage.googleapis.com/dionricky-static/baseline_rf_4.0.E.joblib"
   ]
  },
  {
   "cell_type": "code",
   "execution_count": 2,
   "metadata": {},
   "outputs": [
    {
     "name": "stderr",
     "output_type": "stream",
     "text": [
      "/home/dionrickysptr/future-data-2/venv/lib/python3.6/site-packages/requests/__init__.py:91: RequestsDependencyWarning: urllib3 (1.26.7) or chardet (3.0.4) doesn't match a supported version!\n",
      "  RequestsDependencyWarning)\n"
     ]
    }
   ],
   "source": [
    "import os\n",
    "import re\n",
    "from joblib import load, dump\n",
    "\n",
    "import numpy as np\n",
    "import pandas as pd\n",
    "\n",
    "# Visualization\n",
    "import seaborn as sns\n",
    "\n",
    "from google.oauth2 import service_account\n",
    "from google.cloud import bigquery\n",
    "\n",
    "from sklearn.model_selection import train_test_split\n",
    "from sklearn.metrics import classification_report, confusion_matrix\n",
    "\n",
    "from tensorflow import keras\n",
    "from keras.preprocessing.text import tokenizer_from_json\n",
    "from keras.preprocessing.sequence import pad_sequences\n",
    "\n",
    "from Sastrawi.StopWordRemover.StopWordRemoverFactory import StopWordRemoverFactory\n",
    "\n",
    "from util.model_helper import Model, ModelLoader\n",
    "from util.ensemble_helper import ModelConcatenate, VotingEnsemble, \\\n",
    "    StackingEnsemble"
   ]
  },
  {
   "cell_type": "markdown",
   "metadata": {},
   "source": [
    "## Configs"
   ]
  },
  {
   "cell_type": "code",
   "execution_count": 3,
   "metadata": {},
   "outputs": [],
   "source": [
    "sklearn_loader = load\n",
    "keras_loader = keras.models.load_model"
   ]
  },
  {
   "cell_type": "code",
   "execution_count": 4,
   "metadata": {},
   "outputs": [],
   "source": [
    "BASE_DIR = os.path.join('Sentiment Analysis')"
   ]
  },
  {
   "cell_type": "code",
   "execution_count": 5,
   "metadata": {},
   "outputs": [],
   "source": [
    "dt_config = {\n",
    "    \"name\": \"Decission Tree\",\n",
    "    \"shortname\": \"DT\",\n",
    "    \"path\": os.path.join(BASE_DIR, \"Baseline\",\n",
    "                        \"Baseline_DT_Sentiment_4.0.E\", \"saved_model.joblib\"),\n",
    "    \"version\": \"4.0.E\",\n",
    "    \"loader\": sklearn_loader\n",
    "}\n",
    "\n",
    "rf_config = {\n",
    "    \"name\": \"Random Forest\",\n",
    "    \"shortname\": \"RF\",\n",
    "    \"path\": os.path.join(BASE_DIR, \"ignore\",\n",
    "                        \"Baseline_RF_Sentiment_4.0.E\", \"saved_model.joblib\"),\n",
    "    \"version\": \"4.0.E\",\n",
    "    \"loader\": sklearn_loader\n",
    "}\n",
    "\n",
    "lr_config = {\n",
    "    \"name\": \"Logistic Regression\",\n",
    "    \"shortname\": \"LR\",\n",
    "    \"path\": os.path.join(BASE_DIR, \"Baseline\",\n",
    "                        \"Baseline_LR_Sentiment_4.0.E\", \"saved_model.joblib\"),\n",
    "    \"version\": \"4.0.E\",\n",
    "    \"loader\": sklearn_loader\n",
    "}\n",
    "\n",
    "nb_config = {\n",
    "    \"name\": \"Naive Bayes\",\n",
    "    \"shortname\": \"NB\",\n",
    "    \"path\": os.path.join(BASE_DIR, \"Baseline\",\n",
    "                        \"Baseline_NB_Sentiment_4.0.E\", \"saved_model.joblib\"),\n",
    "    \"version\": \"4.0.E\",\n",
    "    \"loader\": sklearn_loader\n",
    "}\n",
    "\n",
    "nc_config = {\n",
    "    \"name\": \"Nearest Centroid\",\n",
    "    \"shortname\": \"NC\",\n",
    "    \"path\": os.path.join(BASE_DIR, \"Baseline\",\n",
    "                        \"Baseline_NC_Sentiment_4.0.E\", \"saved_model.joblib\"),\n",
    "    \"version\": \"4.0.E\",\n",
    "    \"loader\": sklearn_loader\n",
    "}\n",
    "\n",
    "svm_config = {\n",
    "    \"name\": \"Support Vector Machine\",\n",
    "    \"shortname\": \"SVM\",\n",
    "    \"path\": os.path.join(BASE_DIR, \"Baseline\",\n",
    "                        \"Baseline_SVM_Sentiment_4.0.E\", \"saved_model.joblib\"),\n",
    "    \"version\": \"4.0.E\",\n",
    "    \"loader\": sklearn_loader\n",
    "}\n",
    "\n",
    "knn_config = {\n",
    "    \"name\": \"K Nearest Neighbor\",\n",
    "    \"shortname\": \"KNN\",\n",
    "    \"path\": os.path.join(BASE_DIR, \"Baseline\",\n",
    "                        \"Baseline_KNN_Sentiment_4.0.E\", \"saved_model.joblib\"),\n",
    "    \"version\": \"4.0.E\",\n",
    "    \"loader\": sklearn_loader\n",
    "}\n",
    "\n",
    "lstm_config = {\n",
    "    \"name\": \"Long Short-term Memory\",\n",
    "    \"shortname\": \"LSTM\",\n",
    "    \"path\": os.path.join(BASE_DIR, \"LSTM\", \"LSTM_Sentiment_4.0.E\"),\n",
    "    \"version\": \"4.0.E\",\n",
    "    \"loader\": keras_loader\n",
    "}\n",
    "\n",
    "cnn_config = {\n",
    "    \"name\": \"Convolutional Neural Network\",\n",
    "    \"shortname\": \"CNN\",\n",
    "    \"path\": os.path.join(BASE_DIR, \"CNN\", \"CNN_Sentiment_5.0\"),\n",
    "    \"version\": \"5.0.E\",\n",
    "    \"loader\": keras_loader\n",
    "}"
   ]
  },
  {
   "cell_type": "markdown",
   "metadata": {},
   "source": [
    "## Load Tokenizer"
   ]
  },
  {
   "cell_type": "code",
   "execution_count": 6,
   "metadata": {},
   "outputs": [],
   "source": [
    "tokenizer_path = os.path.join(BASE_DIR, 'Tokenizer', 'tokens_30k.json')\n",
    "tokenizer_file = open(tokenizer_path, 'r')\n",
    "\n",
    "TOKENIZER = tokenizer_from_json(tokenizer_file.read())\n",
    "\n",
    "tokenizer_file.close()"
   ]
  },
  {
   "cell_type": "markdown",
   "metadata": {},
   "source": [
    "## Utils"
   ]
  },
  {
   "cell_type": "code",
   "execution_count": 7,
   "metadata": {},
   "outputs": [],
   "source": [
    "# class ExtendStopWordRemoverFactory(StopWordRemoverFactory):\n",
    "#   def get_stop_word(self):\n",
    "#     new_sw = [\"ada\",\"adalah\",\"adanya\",\"adapun\",\"agak\",\"agaknya\",\"agar\",\"akan\",\"akankah\",\"akhir\",\"akhiri\",\"akhirnya\",\"aku\",\"akulah\",\"amat\",\"amatlah\",\"anda\",\"andalah\",\"antar\",\"antara\",\"antaranya\",\"apa\",\"apaan\",\"apabila\",\"apakah\",\"apalagi\",\"apatah\",\"artinya\",\"asal\",\"asalkan\",\"atas\",\"atau\",\"ataukah\",\"ataupun\",\"awal\",\"awalnya\",\"bagai\",\"bagaikan\",\"bagaimana\",\"bagaimanakah\",\"bagaimanapun\",\"bagi\",\"bagian\",\"bahkan\",\"bahwa\",\"bahwasanya\",\"baik\",\"bakal\",\"bakalan\",\"balik\",\"banyak\",\"bapak\",\"baru\",\"bawah\",\"beberapa\",\"begini\",\"beginian\",\"beginikah\",\"beginilah\",\"begitu\",\"begitukah\",\"begitulah\",\"begitupun\",\"bekerja\",\"belakang\",\"belakangan\",\"belum\",\"belumlah\",\"benar\",\"benarkah\",\"benarlah\",\"berada\",\"berakhir\",\"berakhirlah\",\"berakhirnya\",\"berapa\",\"berapakah\",\"berapalah\",\"berapapun\",\"berarti\",\"berawal\",\"berbagai\",\"berdatangan\",\"beri\",\"berikan\",\"berikut\",\"berikutnya\",\"berjumlah\",\"berkali-kali\",\"berkata\",\"berkehendak\",\"berkeinginan\",\"berkenaan\",\"berlainan\",\"berlalu\",\"berlangsung\",\"berlebihan\",\"bermacam\",\"bermacam-macam\",\"bermaksud\",\"bermula\",\"bersama\",\"bersama-sama\",\"bersiap\",\"bersiap-siap\",\"bertanya\",\"bertanya-tanya\",\"berturut\",\"berturut-turut\",\"bertutur\",\"berujar\",\"berupa\",\"besar\",\"betul\",\"betulkah\",\"biasa\",\"biasanya\",\"bila\",\"bilakah\",\"bisa\",\"bisakah\",\"boleh\",\"bolehkah\",\"bolehlah\",\"buat\",\"bukan\",\"bukankah\",\"bukanlah\",\"bukannya\",\"bulan\",\"bung\",\"cara\",\"caranya\",\"cukup\",\"cukupkah\",\"cukuplah\",\"cuma\",\"dahulu\",\"dalam\",\"dan\",\"dapat\",\"dari\",\"daripada\",\"datang\",\"dekat\",\"demi\",\"demikian\",\"demikianlah\",\"dengan\",\"depan\",\"di\",\"dia\",\"diakhiri\",\"diakhirinya\",\"dialah\",\"diantara\",\"diantaranya\",\"diberi\",\"diberikan\",\"diberikannya\",\"dibuat\",\"dibuatnya\",\"didapat\",\"didatangkan\",\"digunakan\",\"diibaratkan\",\"diibaratkannya\",\"diingat\",\"diingatkan\",\"diinginkan\",\"dijawab\",\"dijelaskan\",\"dijelaskannya\",\"dikarenakan\",\"dikatakan\",\"dikatakannya\",\"dikerjakan\",\"diketahui\",\"diketahuinya\",\"dikira\",\"dilakukan\",\"dilalui\",\"dilihat\",\"dimaksud\",\"dimaksudkan\",\"dimaksudkannya\",\"dimaksudnya\",\"diminta\",\"dimintai\",\"dimisalkan\",\"dimulai\",\"dimulailah\",\"dimulainya\",\"dimungkinkan\",\"dini\",\"dipastikan\",\"diperbuat\",\"diperbuatnya\",\"dipergunakan\",\"diperkirakan\",\"diperlihatkan\",\"diperlukan\",\"diperlukannya\",\"dipersoalkan\",\"dipertanyakan\",\"dipunyai\",\"diri\",\"dirinya\",\"disampaikan\",\"disebut\",\"disebutkan\",\"disebutkannya\",\"disini\",\"disinilah\",\"ditambahkan\",\"ditandaskan\",\"ditanya\",\"ditanyai\",\"ditanyakan\",\"ditegaskan\",\"ditujukan\",\"ditunjuk\",\"ditunjuki\",\"ditunjukkan\",\"ditunjukkannya\",\"ditunjuknya\",\"dituturkan\",\"dituturkannya\",\"diucapkan\",\"diucapkannya\",\"diungkapkan\",\"dong\",\"dua\",\"dulu\",\"empat\",\"enggak\",\"enggaknya\",\"entah\",\"entahlah\",\"guna\",\"gunakan\",\"hal\",\"hampir\",\"hanya\",\"hanyalah\",\"hari\",\"harus\",\"haruslah\",\"harusnya\",\"hendak\",\"hendaklah\",\"hendaknya\",\"hingga\",\"ia\",\"ialah\",\"ibarat\",\"ibaratkan\",\"ibaratnya\",\"ibu\",\"ikut\",\"ingat\",\"ingat-ingat\",\"ingin\",\"inginkah\",\"inginkan\",\"ini\",\"inikah\",\"inilah\",\"itu\",\"itukah\",\"itulah\",\"jadi\",\"jadilah\",\"jadinya\",\"jangan\",\"jangankan\",\"janganlah\",\"jauh\",\"jawab\",\"jawaban\",\"jawabnya\",\"jelas\",\"jelaskan\",\"jelaslah\",\"jelasnya\",\"jika\",\"jikalau\",\"juga\",\"jumlah\",\"jumlahnya\",\"justru\",\"kala\",\"kalau\",\"kalaulah\",\"kalaupun\",\"kalian\",\"kami\",\"kamilah\",\"kamu\",\"kamulah\",\"kan\",\"kapan\",\"kapankah\",\"kapanpun\",\"karena\",\"karenanya\",\"kasus\",\"kata\",\"katakan\",\"katakanlah\",\"katanya\",\"ke\",\"keadaan\",\"kebetulan\",\"kecil\",\"kedua\",\"keduanya\",\"keinginan\",\"kelamaan\",\"kelihatan\",\"kelihatannya\",\"kelima\",\"keluar\",\"kembali\",\"kemudian\",\"kemungkinan\",\"kemungkinannya\",\"kenapa\",\"kepada\",\"kepadanya\",\"kesampaian\",\"keseluruhan\",\"keseluruhannya\",\"keterlaluan\",\"ketika\",\"khususnya\",\"kini\",\"kinilah\",\"kira\",\"kira-kira\",\"kiranya\",\"kita\",\"kitalah\",\"kok\",\"kurang\",\"lagi\",\"lagian\",\"lah\",\"lain\",\"lainnya\",\"lalu\",\"lama\",\"lamanya\",\"lanjut\",\"lanjutnya\",\"lebih\",\"lewat\",\"lima\",\"luar\",\"macam\",\"maka\",\"makanya\",\"makin\",\"malah\",\"malahan\",\"mampu\",\"mampukah\",\"mana\",\"manakala\",\"manalagi\",\"masa\",\"masalah\",\"masalahnya\",\"masih\",\"masihkah\",\"masing\",\"masing-masing\",\"mau\",\"maupun\",\"melainkan\",\"melakukan\",\"melalui\",\"melihat\",\"melihatnya\",\"memang\",\"memastikan\",\"memberi\",\"memberikan\",\"membuat\",\"memerlukan\",\"memihak\",\"meminta\",\"memintakan\",\"memisalkan\",\"memperbuat\",\"mempergunakan\",\"memperkirakan\",\"memperlihatkan\",\"mempersiapkan\",\"mempersoalkan\",\"mempertanyakan\",\"mempunyai\",\"memulai\",\"memungkinkan\",\"menaiki\",\"menambahkan\",\"menandaskan\",\"menanti\",\"menanti-nanti\",\"menantikan\",\"menanya\",\"menanyai\",\"menanyakan\",\"mendapat\",\"mendapatkan\",\"mendatang\",\"mendatangi\",\"mendatangkan\",\"menegaskan\",\"mengakhiri\",\"mengapa\",\"mengatakan\",\"mengatakannya\",\"mengenai\",\"mengerjakan\",\"mengetahui\",\"menggunakan\",\"menghendaki\",\"mengibaratkan\",\"mengibaratkannya\",\"mengingat\",\"mengingatkan\",\"menginginkan\",\"mengira\",\"mengucapkan\",\"mengucapkannya\",\"mengungkapkan\",\"menjadi\",\"menjawab\",\"menjelaskan\",\"menuju\",\"menunjuk\",\"menunjuki\",\"menunjukkan\",\"menunjuknya\",\"menurut\",\"menuturkan\",\"menyampaikan\",\"menyangkut\",\"menyatakan\",\"menyebutkan\",\"menyeluruh\",\"menyiapkan\",\"merasa\",\"mereka\",\"merekalah\",\"merupakan\",\"meski\",\"meskipun\",\"meyakini\",\"meyakinkan\",\"minta\",\"mirip\",\"misal\",\"misalkan\",\"misalnya\",\"mula\",\"mulai\",\"mulailah\",\"mulanya\",\"mungkin\",\"mungkinkah\",\"nah\",\"naik\",\"namun\",\"nanti\",\"nantinya\",\"nyaris\",\"nyatanya\",\"oleh\",\"olehnya\",\"pada\",\"padahal\",\"padanya\",\"pak\",\"paling\",\"panjang\",\"pantas\",\"para\",\"pasti\",\"pastilah\",\"penting\",\"pentingnya\",\"per\",\"percuma\",\"perlu\",\"perlukah\",\"perlunya\",\"pernah\",\"persoalan\",\"pertama\",\"pertama-tama\",\"pertanyaan\",\"pertanyakan\",\"pihak\",\"pihaknya\",\"pukul\",\"pula\",\"pun\",\"punya\",\"rasa\",\"rasanya\",\"rata\",\"rupanya\",\"saat\",\"saatnya\",\"saja\",\"sajalah\",\"saling\",\"sama\",\"sama-sama\",\"sambil\",\"sampai\",\"sampai-sampai\",\"sampaikan\",\"sana\",\"sangat\",\"sangatlah\",\"satu\",\"saya\",\"sayalah\",\"se\",\"sebab\",\"sebabnya\",\"sebagai\",\"sebagaimana\",\"sebagainya\",\"sebagian\",\"sebaik\",\"sebaik-baiknya\",\"sebaiknya\",\"sebaliknya\",\"sebanyak\",\"sebegini\",\"sebegitu\",\"sebelum\",\"sebelumnya\",\"sebenarnya\",\"seberapa\",\"sebesar\",\"sebetulnya\",\"sebisanya\",\"sebuah\",\"sebut\",\"sebutlah\",\"sebutnya\",\"secara\",\"secukupnya\",\"sedang\",\"sedangkan\",\"sedemikian\",\"sedikit\",\"sedikitnya\",\"seenaknya\",\"segala\",\"segalanya\",\"segera\",\"seharusnya\",\"sehingga\",\"seingat\",\"sejak\",\"sejauh\",\"sejenak\",\"sejumlah\",\"sekadar\",\"sekadarnya\",\"sekali\",\"sekali-kali\",\"sekalian\",\"sekaligus\",\"sekalipun\",\"sekarang\",\"sekarang\",\"sekecil\",\"seketika\",\"sekiranya\",\"sekitar\",\"sekitarnya\",\"sekurang-kurangnya\",\"sekurangnya\",\"sela\",\"selain\",\"selaku\",\"selalu\",\"selama\",\"selama-lamanya\",\"selamanya\",\"selanjutnya\",\"seluruh\",\"seluruhnya\",\"semacam\",\"semakin\",\"semampu\",\"semampunya\",\"semasa\",\"semasih\",\"semata\",\"semata-mata\",\"semaunya\",\"sementara\",\"semisal\",\"semisalnya\",\"sempat\",\"semua\",\"semuanya\",\"semula\",\"sendiri\",\"sendirian\",\"sendirinya\",\"seolah\",\"seolah-olah\",\"seorang\",\"sepanjang\",\"sepantasnya\",\"sepantasnyalah\",\"seperlunya\",\"seperti\",\"sepertinya\",\"sepihak\",\"sering\",\"seringnya\",\"serta\",\"serupa\",\"sesaat\",\"sesama\",\"sesampai\",\"sesegera\",\"sesekali\",\"seseorang\",\"sesuatu\",\"sesuatunya\",\"sesudah\",\"sesudahnya\",\"setelah\",\"setempat\",\"setengah\",\"seterusnya\",\"setiap\",\"setiba\",\"setibanya\",\"setidak-tidaknya\",\"setidaknya\",\"setinggi\",\"seusai\",\"sewaktu\",\"siap\",\"siapa\",\"siapakah\",\"siapapun\",\"sini\",\"sinilah\",\"soal\",\"soalnya\",\"suatu\",\"sudah\",\"sudahkah\",\"sudahlah\",\"supaya\",\"tadi\",\"tadinya\",\"tahu\",\"tahun\",\"tak\",\"tambah\",\"tambahnya\",\"tampak\",\"tampaknya\",\"tandas\",\"tandasnya\",\"tanpa\",\"tanya\",\"tanyakan\",\"tanyanya\",\"tapi\",\"tegas\",\"tegasnya\",\"telah\",\"tempat\",\"tengah\",\"tentang\",\"tentu\",\"tentulah\",\"tentunya\",\"tepat\",\"terakhir\",\"terasa\",\"terbanyak\",\"terdahulu\",\"terdapat\",\"terdiri\",\"terhadap\",\"terhadapnya\",\"teringat\",\"teringat-ingat\",\"terjadi\",\"terjadilah\",\"terjadinya\",\"terkira\",\"terlalu\",\"terlebih\",\"terlihat\",\"termasuk\",\"ternyata\",\"tersampaikan\",\"tersebut\",\"tersebutlah\",\"tertentu\",\"tertuju\",\"terus\",\"terutama\",\"tetap\",\"tetapi\",\"tiap\",\"tiba\",\"tiba-tiba\",\"tidak\",\"tidakkah\",\"tidaklah\",\"tiga\",\"tinggi\",\"toh\",\"tunjuk\",\"turut\",\"tutur\",\"tuturnya\",\"ucap\",\"ucapnya\",\"ujar\",\"ujarnya\",\"umum\",\"umumnya\",\"ungkap\",\"ungkapnya\",\"untuk\",\"usah\",\"usai\",\"waduh\",\"wah\",\"wahai\",\"waktu\",\"waktunya\",\"walau\",\"walaupun\",\"wong\",\"yaitu\",\"yakin\",\"yakni\",\"yang\"]\n",
    "#     new_sw.extend(super().get_stop_words())\n",
    "#     return list(set(new_sw))\n",
    "\n",
    "# sw_remover = ExtendStopWordRemoverFactory().create_stop_word_remover()"
   ]
  },
  {
   "cell_type": "code",
   "execution_count": 8,
   "metadata": {},
   "outputs": [],
   "source": [
    "def extract_emojis(sentence):\n",
    "    return [word for word in sentence.split() if str(word.encode('unicode-escape'))[2] == '\\\\' ]"
   ]
  },
  {
   "cell_type": "code",
   "execution_count": 9,
   "metadata": {},
   "outputs": [],
   "source": [
    "def preprocessing_text(text):\n",
    "    if type(text) == list \\\n",
    "        or type(text) == np.ndarray \\\n",
    "        or type(text) == pd.Series:\n",
    "        return [preprocessing_text(t) for t in text]\n",
    "\n",
    "    emojis = ' '.join(extract_emojis(text))\n",
    "    text = re.sub(r'<.*?>', '', text)\n",
    "    text = re.sub(r'[^a-zA-Z]', ' ', text)\n",
    "    text = text.lower()\n",
    "\n",
    "    return text + emojis"
   ]
  },
  {
   "cell_type": "code",
   "execution_count": 10,
   "metadata": {},
   "outputs": [],
   "source": [
    "def keras_preprocess(texts, vector_size=120):\n",
    "    texts = texts if type(texts) != str else [texts]\n",
    "    texts = preprocessing_text(texts)\n",
    "    seq = TOKENIZER.texts_to_sequences(texts)\n",
    "    return pad_sequences(seq, maxlen=vector_size, padding='post')"
   ]
  },
  {
   "cell_type": "code",
   "execution_count": 11,
   "metadata": {},
   "outputs": [],
   "source": [
    "def sklearn_preprocess(texts):\n",
    "    texts = texts if type(texts) != str else [texts]\n",
    "    texts = preprocessing_text(texts)\n",
    "    return texts"
   ]
  },
  {
   "cell_type": "markdown",
   "metadata": {},
   "source": [
    "## Load Models"
   ]
  },
  {
   "cell_type": "code",
   "execution_count": 12,
   "metadata": {},
   "outputs": [],
   "source": [
    "# Load Models\n",
    "DT = ModelLoader(**dt_config)\n",
    "DT = Model(\n",
    "        model=DT.load(),\n",
    "        pred_func= lambda m, x: m.predict_proba(sklearn_preprocess(x)),\n",
    "        **DT.get_config())\n",
    "\n",
    "RF = ModelLoader(**rf_config)\n",
    "RF = Model(\n",
    "        model=RF.load(),\n",
    "        pred_func= lambda m, x: m.predict_proba(sklearn_preprocess(x)),\n",
    "        **RF.get_config())\n",
    "\n",
    "LR = ModelLoader(**lr_config)\n",
    "LR = Model(\n",
    "        model=LR.load(),\n",
    "        pred_func= lambda m, x: m.predict_proba(sklearn_preprocess(x)),\n",
    "        **LR.get_config())\n",
    "\n",
    "NB = ModelLoader(**nb_config)\n",
    "NB = Model(\n",
    "        model=NB.load(),\n",
    "        pred_func= lambda m, x: m.predict_proba(sklearn_preprocess(x)),\n",
    "        **NB.get_config())\n",
    "\n",
    "NC = ModelLoader(**nc_config)\n",
    "NC = Model(\n",
    "        model=NC.load(),\n",
    "        pred_func=lambda m, x: m.predict(sklearn_preprocess(x)),\n",
    "        calc_proba_func=lambda y: np.array([1-y, y]).transpose(),\n",
    "        **NC.get_config())\n",
    "\n",
    "SVM = ModelLoader(**svm_config)\n",
    "SVM = Model(\n",
    "        model=SVM.load(),\n",
    "        pred_func=lambda m, x: m.predict(sklearn_preprocess(x)),\n",
    "        calc_proba_func=lambda y: np.array([1-y, y]).transpose(),\n",
    "        **SVM.get_config())\n",
    "\n",
    "KNN = ModelLoader(**knn_config)\n",
    "KNN = Model(\n",
    "        model=KNN.load(),\n",
    "        pred_func=lambda m, x: m.predict_proba(sklearn_preprocess(x)),\n",
    "        **KNN.get_config())\n",
    "\n",
    "LSTM = ModelLoader(**lstm_config)\n",
    "LSTM = Model(\n",
    "        model=LSTM.load(),\n",
    "        pred_func= lambda m, x: m.predict( keras_preprocess(x), workers=2 ),\n",
    "        post_process=lambda y: y.reshape(y.shape[0]),\n",
    "        calc_proba_func=lambda y: np.array([1-y, y]).transpose(),\n",
    "        **LSTM.get_config())\n",
    "\n",
    "CNN = ModelLoader(**cnn_config)\n",
    "CNN = Model(\n",
    "        model=CNN.load(),\n",
    "        pred_func=lambda m, x: m.predict( keras_preprocess(x), workers=2 ),\n",
    "        post_process=lambda y: y.reshape(y.shape[0]),\n",
    "        calc_proba_func=lambda y: np.array([1-y, y]).transpose(),\n",
    "        **CNN.get_config())"
   ]
  },
  {
   "cell_type": "code",
   "execution_count": 18,
   "metadata": {},
   "outputs": [
    {
     "data": {
      "image/png": "[encoded data removed]",
      "text/plain": [
       "<IPython.core.display.Image object>"
      ]
     },
     "execution_count": 18,
     "metadata": {},
     "output_type": "execute_result"
    }
   ],
   "source": [
    "keras.utils.plot_model(LSTM.model)"
   ]
  },
  {
   "cell_type": "markdown",
   "metadata": {},
   "source": [
    "## Concatenating Models"
   ]
  },
  {
   "cell_type": "code",
   "execution_count": 13,
   "metadata": {},
   "outputs": [],
   "source": [
    "concat = ModelConcatenate([DT, RF, LR, NB, NC, SVM, KNN, LSTM, CNN])"
   ]
  },
  {
   "cell_type": "code",
   "execution_count": 14,
   "metadata": {},
   "outputs": [],
   "source": [
    "ensemble = VotingEnsemble(concat)"
   ]
  },
  {
   "cell_type": "markdown",
   "metadata": {},
   "source": [
    "## Ensemble"
   ]
  },
  {
   "cell_type": "markdown",
   "metadata": {},
   "source": [
    "### Fetching Data"
   ]
  },
  {
   "cell_type": "code",
   "execution_count": 15,
   "metadata": {},
   "outputs": [],
   "source": [
    "key_path = '../airflow/credentials/future-data-track-1-sapporo.json'\n",
    "credentials = service_account.Credentials.from_service_account_file(\n",
    "    key_path,\n",
    "    scopes=[\"https://www.googleapis.com/auth/cloud-platform\"]\n",
    ")\n",
    "\n",
    "bigquery_client = bigquery.Client(\n",
    "    project='future-data-track-1',\n",
    "    credentials=credentials\n",
    ")"
   ]
  },
  {
   "cell_type": "code",
   "execution_count": 16,
   "metadata": {},
   "outputs": [],
   "source": [
    "# query = \"\"\"\n",
    "# SELECT * FROM `future-data-track-1.sapporo_mart.sampled_sentiment_analysis`;\n",
    "# \"\"\"\n",
    "\n",
    "# query = \"\"\"\n",
    "# SELECT\n",
    "#     review,\n",
    "#     CASE\n",
    "#         WHEN rating < 3 THEN 0\n",
    "#         WHEN rating > 3 THEN 2\n",
    "#     ELSE 1\n",
    "#     END AS sentiment\n",
    "# FROM `future-data-track-1.sapporo_mart.app_reviews`\n",
    "# WHERE rating != 3\n",
    "# \tAND EXTRACT(MONTH FROM created_date) = 1\n",
    "# \tAND EXTRACT(YEAR FROM created_date) = 2022;\n",
    "# \"\"\"\n",
    "\n",
    "query = \"\"\"\n",
    "SELECT * FROM `future-data-track-1.sapporo_mart.test_case`;\n",
    "\"\"\"\n",
    "\n",
    "query_job = bigquery_client.query(query)\n",
    "df = query_job.to_dataframe()"
   ]
  },
  {
   "cell_type": "code",
   "execution_count": 17,
   "metadata": {},
   "outputs": [],
   "source": [
    "df = df.dropna(axis=0)"
   ]
  },
  {
   "cell_type": "markdown",
   "metadata": {},
   "source": [
    "### Preprocessing"
   ]
  },
  {
   "cell_type": "code",
   "execution_count": 18,
   "metadata": {},
   "outputs": [],
   "source": [
    "df['review_cleaned'] = df['review'].apply(lambda x : preprocessing_text(x))"
   ]
  },
  {
   "cell_type": "code",
   "execution_count": 19,
   "metadata": {},
   "outputs": [
    {
     "data": {
      "text/html": [
       "<div>\n",
       "<style scoped>\n",
       "    .dataframe tbody tr th:only-of-type {\n",
       "        vertical-align: middle;\n",
       "    }\n",
       "\n",
       "    .dataframe tbody tr th {\n",
       "        vertical-align: top;\n",
       "    }\n",
       "\n",
       "    .dataframe thead th {\n",
       "        text-align: right;\n",
       "    }\n",
       "</style>\n",
       "<table border=\"1\" class=\"dataframe\">\n",
       "  <thead>\n",
       "    <tr style=\"text-align: right;\">\n",
       "      <th></th>\n",
       "      <th>review_id</th>\n",
       "      <th>review</th>\n",
       "      <th>rating</th>\n",
       "      <th>sentiment</th>\n",
       "      <th>review_cleaned</th>\n",
       "    </tr>\n",
       "  </thead>\n",
       "  <tbody>\n",
       "    <tr>\n",
       "      <th>0</th>\n",
       "      <td>gp:AOqpTOGRJc9vClb7RwqODHTtLiINySdHEBc01d9-TnH...</td>\n",
       "      <td>Saya rugi besar di lazada ketika return barang...</td>\n",
       "      <td>1</td>\n",
       "      <td>0</td>\n",
       "      <td>rugi lazada return barang uang intinya kecewa ...</td>\n",
       "    </tr>\n",
       "    <tr>\n",
       "      <th>1</th>\n",
       "      <td>gp:AOqpTOG94r6DiHB-YEbyqVxEZLqIcqio4E68TR7Gv3W...</td>\n",
       "      <td>Shoopeee kontolll kadang lag parah</td>\n",
       "      <td>1</td>\n",
       "      <td>0</td>\n",
       "      <td>shoopeee kontolll kadang lag parah</td>\n",
       "    </tr>\n",
       "    <tr>\n",
       "      <th>2</th>\n",
       "      <td>gp:AOqpTOEtKB2NpwpOaFHrgWHerrk3n9c1KXjdXsKlHa9...</td>\n",
       "      <td>Ga bisa update</td>\n",
       "      <td>1</td>\n",
       "      <td>0</td>\n",
       "      <td>ga update</td>\n",
       "    </tr>\n",
       "    <tr>\n",
       "      <th>3</th>\n",
       "      <td>gp:AOqpTOERAxmNOpY6sviySoLlcXS32PTRcaOUobmwyT8...</td>\n",
       "      <td>Tokopedia anj Tokopedia gblk Tokopedia anak haram</td>\n",
       "      <td>1</td>\n",
       "      <td>0</td>\n",
       "      <td>tokopedia anj tokopedia gblk tokopedia anak haram</td>\n",
       "    </tr>\n",
       "    <tr>\n",
       "      <th>4</th>\n",
       "      <td>gp:AOqpTOEiroYqUcztzg0fV3uVbNC72NN99g9MwiGQ1GP...</td>\n",
       "      <td>Iklan anjg</td>\n",
       "      <td>1</td>\n",
       "      <td>0</td>\n",
       "      <td>iklan anjg</td>\n",
       "    </tr>\n",
       "  </tbody>\n",
       "</table>\n",
       "</div>"
      ],
      "text/plain": [
       "                                           review_id  \\\n",
       "0  gp:AOqpTOGRJc9vClb7RwqODHTtLiINySdHEBc01d9-TnH...   \n",
       "1  gp:AOqpTOG94r6DiHB-YEbyqVxEZLqIcqio4E68TR7Gv3W...   \n",
       "2  gp:AOqpTOEtKB2NpwpOaFHrgWHerrk3n9c1KXjdXsKlHa9...   \n",
       "3  gp:AOqpTOERAxmNOpY6sviySoLlcXS32PTRcaOUobmwyT8...   \n",
       "4  gp:AOqpTOEiroYqUcztzg0fV3uVbNC72NN99g9MwiGQ1GP...   \n",
       "\n",
       "                                              review  rating  sentiment  \\\n",
       "0  Saya rugi besar di lazada ketika return barang...       1          0   \n",
       "1                 Shoopeee kontolll kadang lag parah       1          0   \n",
       "2                                     Ga bisa update       1          0   \n",
       "3  Tokopedia anj Tokopedia gblk Tokopedia anak haram       1          0   \n",
       "4                                         Iklan anjg       1          0   \n",
       "\n",
       "                                      review_cleaned  \n",
       "0  rugi lazada return barang uang intinya kecewa ...  \n",
       "1                 shoopeee kontolll kadang lag parah  \n",
       "2                                          ga update  \n",
       "3  tokopedia anj tokopedia gblk tokopedia anak haram  \n",
       "4                                         iklan anjg  "
      ]
     },
     "execution_count": 19,
     "metadata": {},
     "output_type": "execute_result"
    }
   ],
   "source": [
    "df.head()"
   ]
  },
  {
   "cell_type": "code",
   "execution_count": 20,
   "metadata": {},
   "outputs": [],
   "source": [
    "df['sentiment'] = df['sentiment'].map({0:0, 2:1})"
   ]
  },
  {
   "cell_type": "markdown",
   "metadata": {},
   "source": [
    "### Splitting Data"
   ]
  },
  {
   "cell_type": "code",
   "execution_count": 59,
   "metadata": {},
   "outputs": [],
   "source": [
    "# X_train, X_test, y_train, y_test = train_test_split(df['review_cleaned'], df['sentiment'])"
   ]
  },
  {
   "cell_type": "code",
   "execution_count": 21,
   "metadata": {},
   "outputs": [],
   "source": [
    "X_test = df['review_cleaned']\n",
    "y_test = df['sentiment']"
   ]
  },
  {
   "cell_type": "markdown",
   "metadata": {},
   "source": [
    "### Evaluating Model"
   ]
  },
  {
   "cell_type": "code",
   "execution_count": 22,
   "metadata": {},
   "outputs": [
    {
     "name": "stdout",
     "output_type": "stream",
     "text": [
      "              precision    recall  f1-score   support\n",
      "\n",
      "           0       0.84      0.81      0.82      5000\n",
      "           1       0.81      0.85      0.83      5000\n",
      "\n",
      "    accuracy                           0.83     10000\n",
      "   macro avg       0.83      0.83      0.83     10000\n",
      "weighted avg       0.83      0.83      0.83     10000\n",
      "\n"
     ]
    },
    {
     "data": {
      "text/plain": [
       "<AxesSubplot:>"
      ]
     },
     "execution_count": 22,
     "metadata": {},
     "output_type": "execute_result"
    },
    {
     "data": {
      "image/png": "[encoded data removed]",
      "text/plain": [
       "<Figure size 432x288 with 2 Axes>"
      ]
     },
     "metadata": {
      "needs_background": "light"
     },
     "output_type": "display_data"
    }
   ],
   "source": [
    "y_pred = np.argmax(LSTM.predict(X_test), axis=1)\n",
    "\n",
    "print(classification_report(y_test, y_pred))\n",
    "\n",
    "sns.heatmap(confusion_matrix(y_test, y_pred), \n",
    "            annot=True, fmt='.0f', \n",
    "            xticklabels=['Predicted negative', 'Predicted positive'], \n",
    "            yticklabels=['Negative', 'Positive'])"
   ]
  },
  {
   "cell_type": "code",
   "execution_count": 23,
   "metadata": {},
   "outputs": [
    {
     "name": "stdout",
     "output_type": "stream",
     "text": [
      "              precision    recall  f1-score   support\n",
      "\n",
      "           0       0.84      0.83      0.84      5000\n",
      "           1       0.83      0.84      0.84      5000\n",
      "\n",
      "    accuracy                           0.84     10000\n",
      "   macro avg       0.84      0.84      0.84     10000\n",
      "weighted avg       0.84      0.84      0.84     10000\n",
      "\n"
     ]
    },
    {
     "data": {
      "text/plain": [
       "<AxesSubplot:>"
      ]
     },
     "execution_count": 23,
     "metadata": {},
     "output_type": "execute_result"
    },
    {
     "data": {
      "image/png": "[encoded data removed]",
      "text/plain": [
       "<Figure size 432x288 with 2 Axes>"
      ]
     },
     "metadata": {
      "needs_background": "light"
     },
     "output_type": "display_data"
    }
   ],
   "source": [
    "y_pred = ensemble.predict(X_test)\n",
    "\n",
    "print(classification_report(y_test, y_pred))\n",
    "\n",
    "sns.heatmap(confusion_matrix(y_test, y_pred), \n",
    "            annot=True, fmt='.0f', \n",
    "            xticklabels=['Predicted negative', 'Predicted positive'], \n",
    "            yticklabels=['Negative', 'Positive'])"
   ]
  },
  {
   "cell_type": "markdown",
   "metadata": {},
   "source": [
    "## Exporting For Production"
   ]
  },
  {
   "cell_type": "code",
   "execution_count": 24,
   "metadata": {},
   "outputs": [],
   "source": [
    "model_concat_configs = [dt_config, rf_config, lr_config, nb_config, nc_config,\n",
    "                        svm_config, knn_config, lstm_config, cnn_config]"
   ]
  },
  {
   "cell_type": "code",
   "execution_count": 35,
   "metadata": {},
   "outputs": [],
   "source": [
    "BASE_PROJECT_DIR = os.path.join('/home', 'dionrickysptr', 'future-data-2')\n",
    "BASE_DS_DIR = os.path.join(BASE_PROJECT_DIR, 'data science',)\n",
    "BASE_SENTIMENT_DIR = os.path.join(BASE_DS_DIR, 'Sentiment Analysis')\n",
    "BASE_PROD_DIR = os.path.join(BASE_SENTIMENT_DIR, 'dist')"
   ]
  },
  {
   "cell_type": "markdown",
   "metadata": {},
   "source": [
    "### Creating Symlink in Prod Folder"
   ]
  },
  {
   "cell_type": "code",
   "execution_count": 36,
   "metadata": {},
   "outputs": [],
   "source": [
    "for model in model_concat_configs:\n",
    "    model_sn = model['shortname']\n",
    "    model_version = model['version']\n",
    "    model_path = model['path']\n",
    "    model_path = os.path.join(BASE_DS_DIR, model_path)\n",
    "\n",
    "    dest = '_'.join([model_sn, model_version])\n",
    "    dest = os.path.join(BASE_PROD_DIR, dest)\n",
    "\n",
    "    os.symlink(model_path, dest)"
   ]
  },
  {
   "cell_type": "code",
   "execution_count": 39,
   "metadata": {},
   "outputs": [],
   "source": [
    "exported_config = []\n",
    "\n",
    "for model in model_concat_configs:\n",
    "    model_sn = model['shortname']\n",
    "    model_version = model['version']\n",
    "\n",
    "    model_exported_name = '_'.join([model_sn, model_version])\n",
    "\n",
    "    config = {\n",
    "        'name': model['name'],\n",
    "        'shortname': model_sn,\n",
    "        'version': model_version,\n",
    "        'exported_name': model_exported_name\n",
    "    }\n",
    "\n",
    "    exported_config.append(config)"
   ]
  },
  {
   "cell_type": "markdown",
   "metadata": {},
   "source": [
    "### Dumping Exported Model Configs"
   ]
  },
  {
   "cell_type": "code",
   "execution_count": 41,
   "metadata": {},
   "outputs": [],
   "source": [
    "import json"
   ]
  },
  {
   "cell_type": "code",
   "execution_count": 44,
   "metadata": {},
   "outputs": [],
   "source": [
    "with open(os.path.join(BASE_PROD_DIR, 'configs.json'), 'w+') as _f:\n",
    "    json.dump(exported_config, _f)"
   ]
  }
 ],
 "metadata": {
  "interpreter": {
   "hash": "9bb25bc732f7dedd2d49b595a113c80320e22d6c17d7e5452507f52d8416cf12"
  },
  "kernelspec": {
   "display_name": "Python 3.6.15 64-bit ('venv': venv)",
   "language": "python",
   "name": "python3"
  },
  "language_info": {
   "codemirror_mode": {
    "name": "ipython",
    "version": 3
   },
   "file_extension": ".py",
   "mimetype": "text/x-python",
   "name": "python",
   "nbconvert_exporter": "python",
   "pygments_lexer": "ipython3",
   "version": "3.6.15"
  },
  "orig_nbformat": 4
 },
 "nbformat": 4,
 "nbformat_minor": 2
}
