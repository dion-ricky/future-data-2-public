{
  "nbformat": 4,
  "nbformat_minor": 0,
  "metadata": {
    "colab": {
      "name": "Accuracy_4topics_iter100_pass40.ipynb",
      "provenance": []
    },
    "kernelspec": {
      "name": "python3",
      "display_name": "Python 3"
    },
    "language_info": {
      "name": "python"
    }
  },
  "cells": [
    {
      "cell_type": "code",
      "execution_count": 1,
      "metadata": {
        "id": "Zml2dLdv4Cvv"
      },
      "outputs": [],
      "source": [
        "import pandas as pd\n",
        "df = pd.read_csv('data_processed_4_iter100_pass40_202202121426.csv')"
      ]
    },
    {
      "cell_type": "code",
      "source": [
        "df.dropna(subset=['Label'], inplace=True)"
      ],
      "metadata": {
        "id": "z8TnERJ3cjQl"
      },
      "execution_count": 2,
      "outputs": []
    },
    {
      "cell_type": "code",
      "source": [
        "df[['Label', 'dominant_topic']] = df[['Label', 'dominant_topic']].astype(int)"
      ],
      "metadata": {
        "id": "nOIeJY4Ocl0i"
      },
      "execution_count": 3,
      "outputs": []
    },
    {
      "cell_type": "code",
      "source": [
        "from sklearn.metrics import classification_report\n",
        "\n",
        "print(classification_report(df['Label'], df['dominant_topic']))"
      ],
      "metadata": {
        "colab": {
          "base_uri": "https://localhost:8080/"
        },
        "id": "CyButiVLcnnj",
        "outputId": "6063cc95-f1f9-4c4e-f7e4-9adea22c9499"
      },
      "execution_count": 4,
      "outputs": [
        {
          "output_type": "stream",
          "name": "stdout",
          "text": [
            "              precision    recall  f1-score   support\n",
            "\n",
            "           0       0.94      0.96      0.95        49\n",
            "           1       0.94      0.84      0.89        56\n",
            "           2       0.94      0.96      0.95        49\n",
            "           3       0.82      0.89      0.85        46\n",
            "\n",
            "    accuracy                           0.91       200\n",
            "   macro avg       0.91      0.91      0.91       200\n",
            "weighted avg       0.91      0.91      0.91       200\n",
            "\n"
          ]
        }
      ]
    },
    {
      "cell_type": "code",
      "source": [
        "df_90 = df[df['topic_perc_contrib']>= 0.9]"
      ],
      "metadata": {
        "id": "DFOjOM3AcpBP"
      },
      "execution_count": 5,
      "outputs": []
    },
    {
      "cell_type": "code",
      "source": [
        "from sklearn.metrics import classification_report\n",
        "\n",
        "print(classification_report(df_90['Label'], df_90['dominant_topic']))"
      ],
      "metadata": {
        "colab": {
          "base_uri": "https://localhost:8080/"
        },
        "id": "tFwcwoGmcq4E",
        "outputId": "b00a7b14-6c49-48ab-b3a8-796c2fd8a298"
      },
      "execution_count": 6,
      "outputs": [
        {
          "output_type": "stream",
          "name": "stdout",
          "text": [
            "              precision    recall  f1-score   support\n",
            "\n",
            "           0       0.94      0.98      0.96        48\n",
            "           1       0.94      0.87      0.90        54\n",
            "           2       1.00      0.92      0.96        26\n",
            "           3       0.82      0.89      0.85        46\n",
            "\n",
            "    accuracy                           0.91       174\n",
            "   macro avg       0.92      0.92      0.92       174\n",
            "weighted avg       0.92      0.91      0.91       174\n",
            "\n"
          ]
        }
      ]
    }
  ]
}