{
  "nbformat": 4,
  "nbformat_minor": 0,
  "metadata": {
    "colab": {
      "name": "Accuracy_4topics_iter100_pass20.ipynb",
      "provenance": []
    },
    "kernelspec": {
      "name": "python3",
      "display_name": "Python 3"
    },
    "language_info": {
      "name": "python"
    }
  },
  "cells": [
    {
      "cell_type": "code",
      "execution_count": 3,
      "metadata": {
        "id": "Zml2dLdv4Cvv"
      },
      "outputs": [],
      "source": [
        "import pandas as pd\n",
        "df = pd.read_csv('data_processed_4_iter100_pass20_202202112148.csv')"
      ]
    },
    {
      "cell_type": "code",
      "source": [
        "df.dropna(subset=['Label'], inplace=True)"
      ],
      "metadata": {
        "id": "z8TnERJ3cjQl"
      },
      "execution_count": 4,
      "outputs": []
    },
    {
      "cell_type": "code",
      "source": [
        "df[['Label', 'dominant_topic']] = df[['Label', 'dominant_topic']].astype(int)"
      ],
      "metadata": {
        "id": "nOIeJY4Ocl0i"
      },
      "execution_count": 5,
      "outputs": []
    },
    {
      "cell_type": "code",
      "source": [
        "from sklearn.metrics import classification_report\n",
        "\n",
        "print(classification_report(df['Label'], df['dominant_topic']))"
      ],
      "metadata": {
        "colab": {
          "base_uri": "https://localhost:8080/"
        },
        "id": "CyButiVLcnnj",
        "outputId": "7c6c18a5-ce34-49dd-8caa-4f1bcc478e19"
      },
      "execution_count": 6,
      "outputs": [
        {
          "output_type": "stream",
          "name": "stdout",
          "text": [
            "              precision    recall  f1-score   support\n",
            "\n",
            "           0       0.90      0.98      0.94        46\n",
            "           1       0.90      0.98      0.94        46\n",
            "           2       0.98      0.92      0.95        53\n",
            "           3       1.00      0.91      0.95        55\n",
            "\n",
            "    accuracy                           0.94       200\n",
            "   macro avg       0.95      0.95      0.94       200\n",
            "weighted avg       0.95      0.94      0.95       200\n",
            "\n"
          ]
        }
      ]
    },
    {
      "cell_type": "code",
      "source": [
        "df_90 = df[df['topic_perc_contrib']>= 0.9]"
      ],
      "metadata": {
        "id": "DFOjOM3AcpBP"
      },
      "execution_count": 7,
      "outputs": []
    },
    {
      "cell_type": "code",
      "source": [
        "from sklearn.metrics import classification_report\n",
        "\n",
        "print(classification_report(df_90['Label'], df_90['dominant_topic']))"
      ],
      "metadata": {
        "colab": {
          "base_uri": "https://localhost:8080/"
        },
        "id": "tFwcwoGmcq4E",
        "outputId": "fa19596a-ac21-4f40-bf06-f624c4ff5dfa"
      },
      "execution_count": 8,
      "outputs": [
        {
          "output_type": "stream",
          "name": "stdout",
          "text": [
            "              precision    recall  f1-score   support\n",
            "\n",
            "           0       0.90      0.98      0.94        46\n",
            "           1       0.89      0.98      0.93        43\n",
            "           2       0.98      0.92      0.95        53\n",
            "           3       1.00      0.91      0.95        55\n",
            "\n",
            "    accuracy                           0.94       197\n",
            "   macro avg       0.94      0.95      0.94       197\n",
            "weighted avg       0.95      0.94      0.94       197\n",
            "\n"
          ]
        }
      ]
    }
  ]
}