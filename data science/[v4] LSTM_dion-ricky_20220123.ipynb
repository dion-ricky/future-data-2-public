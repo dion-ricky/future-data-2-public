{
 "cells": [
  {
   "cell_type": "markdown",
   "metadata": {},
   "source": [
    "# Sentiment Analysis\n",
    "Sentiment analysis of Indonesian online marketplace app reviews.\n",
    "\n",
    "Steps:\n",
    "1. EDA and data cleaning\n",
    "2. Modelling using LSTM"
   ]
  },
  {
   "cell_type": "markdown",
   "metadata": {},
   "source": [
    "## Loading Dependencies"
   ]
  },
  {
   "cell_type": "code",
   "execution_count": 1,
   "metadata": {},
   "outputs": [
    {
     "name": "stderr",
     "output_type": "stream",
     "text": [
      "/home/dionrickysptr/future-data-2/venv/lib/python3.6/site-packages/requests/__init__.py:91: RequestsDependencyWarning: urllib3 (1.26.7) or chardet (3.0.4) doesn't match a supported version!\n",
      "  RequestsDependencyWarning)\n"
     ]
    }
   ],
   "source": [
    "import os\n",
    "import re\n",
    "\n",
    "import numpy as np\n",
    "import pandas as pd\n",
    "\n",
    "# Visualization\n",
    "import seaborn as sns\n",
    "\n",
    "# Google cloud\n",
    "from google.oauth2 import service_account\n",
    "from google.cloud import bigquery\n",
    "\n",
    "from sklearn.model_selection import train_test_split\n",
    "from sklearn.metrics import classification_report, confusion_matrix\n",
    "\n",
    "from tensorflow import keras\n",
    "from keras.losses import BinaryCrossentropy\n",
    "from keras.preprocessing.text import tokenizer_from_json\n",
    "from keras.preprocessing.sequence import pad_sequences\n",
    "\n",
    "from gensim.models import Word2Vec\n",
    "\n",
    "import emoji"
   ]
  },
  {
   "cell_type": "code",
   "execution_count": 2,
   "metadata": {},
   "outputs": [],
   "source": [
    "key_path = '../airflow/credentials/future-data-track-1-sapporo.json'\n",
    "credentials = service_account.Credentials.from_service_account_file(\n",
    "    key_path,\n",
    "    scopes=[\"https://www.googleapis.com/auth/cloud-platform\"]\n",
    ")\n",
    "\n",
    "bigquery_client = bigquery.Client(\n",
    "    project='future-data-track-1',\n",
    "    credentials=credentials\n",
    ")"
   ]
  },
  {
   "cell_type": "code",
   "execution_count": 3,
   "metadata": {},
   "outputs": [],
   "source": [
    "query = \"\"\"\n",
    "SELECT * FROM `future-data-track-1.sapporo_mart.sampled_sentiment_analysis`;\n",
    "\"\"\"\n",
    "\n",
    "query_job = bigquery_client.query(query)\n",
    "df = query_job.to_dataframe()"
   ]
  },
  {
   "cell_type": "code",
   "execution_count": 4,
   "metadata": {},
   "outputs": [
    {
     "data": {
      "text/html": [
       "<div>\n",
       "<style scoped>\n",
       "    .dataframe tbody tr th:only-of-type {\n",
       "        vertical-align: middle;\n",
       "    }\n",
       "\n",
       "    .dataframe tbody tr th {\n",
       "        vertical-align: top;\n",
       "    }\n",
       "\n",
       "    .dataframe thead th {\n",
       "        text-align: right;\n",
       "    }\n",
       "</style>\n",
       "<table border=\"1\" class=\"dataframe\">\n",
       "  <thead>\n",
       "    <tr style=\"text-align: right;\">\n",
       "      <th></th>\n",
       "      <th>review</th>\n",
       "      <th>rating</th>\n",
       "      <th>sentiment</th>\n",
       "    </tr>\n",
       "  </thead>\n",
       "  <tbody>\n",
       "    <tr>\n",
       "      <th>0</th>\n",
       "      <td>Ok siap</td>\n",
       "      <td>1</td>\n",
       "      <td>0</td>\n",
       "    </tr>\n",
       "    <tr>\n",
       "      <th>1</th>\n",
       "      <td>Banyak toko yg beralamat dijakarta eh ternyata...</td>\n",
       "      <td>1</td>\n",
       "      <td>0</td>\n",
       "    </tr>\n",
       "    <tr>\n",
       "      <th>2</th>\n",
       "      <td>Payah payaaaaaaaaaahh!!! Udah terang\" dapet ba...</td>\n",
       "      <td>1</td>\n",
       "      <td>0</td>\n",
       "    </tr>\n",
       "    <tr>\n",
       "      <th>3</th>\n",
       "      <td>Toko yg gajelas, gue pesen baju motif army dik...</td>\n",
       "      <td>1</td>\n",
       "      <td>0</td>\n",
       "    </tr>\n",
       "    <tr>\n",
       "      <th>4</th>\n",
       "      <td>Ngentod</td>\n",
       "      <td>1</td>\n",
       "      <td>0</td>\n",
       "    </tr>\n",
       "  </tbody>\n",
       "</table>\n",
       "</div>"
      ],
      "text/plain": [
       "                                              review  rating  sentiment\n",
       "0                                            Ok siap       1          0\n",
       "1  Banyak toko yg beralamat dijakarta eh ternyata...       1          0\n",
       "2  Payah payaaaaaaaaaahh!!! Udah terang\" dapet ba...       1          0\n",
       "3  Toko yg gajelas, gue pesen baju motif army dik...       1          0\n",
       "4                                            Ngentod       1          0"
      ]
     },
     "execution_count": 4,
     "metadata": {},
     "output_type": "execute_result"
    }
   ],
   "source": [
    "df.head()"
   ]
  },
  {
   "cell_type": "markdown",
   "metadata": {},
   "source": [
    "## 1. EDA and cleaning"
   ]
  },
  {
   "cell_type": "code",
   "execution_count": 5,
   "metadata": {},
   "outputs": [
    {
     "name": "stderr",
     "output_type": "stream",
     "text": [
      "/home/dionrickysptr/future-data-2/venv/lib/python3.6/site-packages/seaborn/_decorators.py:43: FutureWarning: Pass the following variable as a keyword arg: x. From version 0.12, the only valid positional argument will be `data`, and passing other arguments without an explicit keyword will result in an error or misinterpretation.\n",
      "  FutureWarning\n"
     ]
    },
    {
     "data": {
      "text/plain": [
       "<AxesSubplot:xlabel='sentiment', ylabel='count'>"
      ]
     },
     "execution_count": 5,
     "metadata": {},
     "output_type": "execute_result"
    },
    {
     "data": {
      "image/png": "[encoded data removed]",
      "text/plain": [
       "<Figure size 432x288 with 1 Axes>"
      ]
     },
     "metadata": {
      "needs_background": "light"
     },
     "output_type": "display_data"
    }
   ],
   "source": [
    "sns.countplot(df[\"sentiment\"])"
   ]
  },
  {
   "cell_type": "code",
   "execution_count": 6,
   "metadata": {},
   "outputs": [
    {
     "data": {
      "text/plain": [
       "review       0\n",
       "rating       0\n",
       "sentiment    0\n",
       "dtype: int64"
      ]
     },
     "execution_count": 6,
     "metadata": {},
     "output_type": "execute_result"
    }
   ],
   "source": [
    "df.isna().sum()"
   ]
  },
  {
   "cell_type": "code",
   "execution_count": 7,
   "metadata": {},
   "outputs": [],
   "source": [
    "df = df.dropna(axis=0)"
   ]
  },
  {
   "cell_type": "code",
   "execution_count": 8,
   "metadata": {},
   "outputs": [
    {
     "name": "stdout",
     "output_type": "stream",
     "text": [
      "<class 'pandas.core.frame.DataFrame'>\n",
      "Int64Index: 264000 entries, 0 to 263999\n",
      "Data columns (total 3 columns):\n",
      " #   Column     Non-Null Count   Dtype \n",
      "---  ------     --------------   ----- \n",
      " 0   review     264000 non-null  object\n",
      " 1   rating     264000 non-null  int64 \n",
      " 2   sentiment  264000 non-null  int64 \n",
      "dtypes: int64(2), object(1)\n",
      "memory usage: 8.1+ MB\n"
     ]
    }
   ],
   "source": [
    "df.info()"
   ]
  },
  {
   "cell_type": "markdown",
   "metadata": {},
   "source": [
    "### Cleaning"
   ]
  },
  {
   "cell_type": "code",
   "execution_count": 9,
   "metadata": {},
   "outputs": [],
   "source": [
    "def extract_emojis(sentence):\n",
    "    return re.findall(emoji.get_emoji_regexp(), sentence)"
   ]
  },
  {
   "cell_type": "code",
   "execution_count": 10,
   "metadata": {},
   "outputs": [],
   "source": [
    "def preprocessing_text(texts):\n",
    "    emojis = extract_emojis(texts)\n",
    "    texts = re.sub(r'<.*?>', '', texts)\n",
    "    texts = re.sub(r'[^a-zA-Z]', ' ', texts)\n",
    "    texts = list(filter(lambda x: x, [x.lower() for x in texts.split(\" \")]))\n",
    "\n",
    "    return texts + emojis"
   ]
  },
  {
   "cell_type": "code",
   "execution_count": 11,
   "metadata": {},
   "outputs": [],
   "source": [
    "df['review_cleaned'] = df['review'].apply(lambda x : preprocessing_text(x))"
   ]
  },
  {
   "cell_type": "code",
   "execution_count": 12,
   "metadata": {},
   "outputs": [
    {
     "data": {
      "text/html": [
       "<div>\n",
       "<style scoped>\n",
       "    .dataframe tbody tr th:only-of-type {\n",
       "        vertical-align: middle;\n",
       "    }\n",
       "\n",
       "    .dataframe tbody tr th {\n",
       "        vertical-align: top;\n",
       "    }\n",
       "\n",
       "    .dataframe thead th {\n",
       "        text-align: right;\n",
       "    }\n",
       "</style>\n",
       "<table border=\"1\" class=\"dataframe\">\n",
       "  <thead>\n",
       "    <tr style=\"text-align: right;\">\n",
       "      <th></th>\n",
       "      <th>review</th>\n",
       "      <th>rating</th>\n",
       "      <th>sentiment</th>\n",
       "      <th>review_cleaned</th>\n",
       "    </tr>\n",
       "  </thead>\n",
       "  <tbody>\n",
       "    <tr>\n",
       "      <th>0</th>\n",
       "      <td>Ok siap</td>\n",
       "      <td>1</td>\n",
       "      <td>0</td>\n",
       "      <td>[ok, siap]</td>\n",
       "    </tr>\n",
       "    <tr>\n",
       "      <th>1</th>\n",
       "      <td>Banyak toko yg beralamat dijakarta eh ternyata...</td>\n",
       "      <td>1</td>\n",
       "      <td>0</td>\n",
       "      <td>[banyak, toko, yg, beralamat, dijakarta, eh, t...</td>\n",
       "    </tr>\n",
       "    <tr>\n",
       "      <th>2</th>\n",
       "      <td>Payah payaaaaaaaaaahh!!! Udah terang\" dapet ba...</td>\n",
       "      <td>1</td>\n",
       "      <td>0</td>\n",
       "      <td>[payah, payaaaaaaaaaahh, udah, terang, dapet, ...</td>\n",
       "    </tr>\n",
       "    <tr>\n",
       "      <th>3</th>\n",
       "      <td>Toko yg gajelas, gue pesen baju motif army dik...</td>\n",
       "      <td>1</td>\n",
       "      <td>0</td>\n",
       "      <td>[toko, yg, gajelas, gue, pesen, baju, motif, a...</td>\n",
       "    </tr>\n",
       "    <tr>\n",
       "      <th>4</th>\n",
       "      <td>Ngentod</td>\n",
       "      <td>1</td>\n",
       "      <td>0</td>\n",
       "      <td>[ngentod]</td>\n",
       "    </tr>\n",
       "  </tbody>\n",
       "</table>\n",
       "</div>"
      ],
      "text/plain": [
       "                                              review  rating  sentiment  \\\n",
       "0                                            Ok siap       1          0   \n",
       "1  Banyak toko yg beralamat dijakarta eh ternyata...       1          0   \n",
       "2  Payah payaaaaaaaaaahh!!! Udah terang\" dapet ba...       1          0   \n",
       "3  Toko yg gajelas, gue pesen baju motif army dik...       1          0   \n",
       "4                                            Ngentod       1          0   \n",
       "\n",
       "                                      review_cleaned  \n",
       "0                                         [ok, siap]  \n",
       "1  [banyak, toko, yg, beralamat, dijakarta, eh, t...  \n",
       "2  [payah, payaaaaaaaaaahh, udah, terang, dapet, ...  \n",
       "3  [toko, yg, gajelas, gue, pesen, baju, motif, a...  \n",
       "4                                          [ngentod]  "
      ]
     },
     "execution_count": 12,
     "metadata": {},
     "output_type": "execute_result"
    }
   ],
   "source": [
    "df.head()"
   ]
  },
  {
   "cell_type": "code",
   "execution_count": 13,
   "metadata": {},
   "outputs": [
    {
     "data": {
      "text/html": [
       "<div>\n",
       "<style scoped>\n",
       "    .dataframe tbody tr th:only-of-type {\n",
       "        vertical-align: middle;\n",
       "    }\n",
       "\n",
       "    .dataframe tbody tr th {\n",
       "        vertical-align: top;\n",
       "    }\n",
       "\n",
       "    .dataframe thead th {\n",
       "        text-align: right;\n",
       "    }\n",
       "</style>\n",
       "<table border=\"1\" class=\"dataframe\">\n",
       "  <thead>\n",
       "    <tr style=\"text-align: right;\">\n",
       "      <th></th>\n",
       "      <th>word_length</th>\n",
       "    </tr>\n",
       "  </thead>\n",
       "  <tbody>\n",
       "    <tr>\n",
       "      <th>count</th>\n",
       "      <td>264000.000000</td>\n",
       "    </tr>\n",
       "    <tr>\n",
       "      <th>mean</th>\n",
       "      <td>11.018655</td>\n",
       "    </tr>\n",
       "    <tr>\n",
       "      <th>std</th>\n",
       "      <td>13.889785</td>\n",
       "    </tr>\n",
       "    <tr>\n",
       "      <th>min</th>\n",
       "      <td>0.000000</td>\n",
       "    </tr>\n",
       "    <tr>\n",
       "      <th>25%</th>\n",
       "      <td>2.000000</td>\n",
       "    </tr>\n",
       "    <tr>\n",
       "      <th>50%</th>\n",
       "      <td>6.000000</td>\n",
       "    </tr>\n",
       "    <tr>\n",
       "      <th>75%</th>\n",
       "      <td>14.000000</td>\n",
       "    </tr>\n",
       "    <tr>\n",
       "      <th>max</th>\n",
       "      <td>235.000000</td>\n",
       "    </tr>\n",
       "  </tbody>\n",
       "</table>\n",
       "</div>"
      ],
      "text/plain": [
       "         word_length\n",
       "count  264000.000000\n",
       "mean       11.018655\n",
       "std        13.889785\n",
       "min         0.000000\n",
       "25%         2.000000\n",
       "50%         6.000000\n",
       "75%        14.000000\n",
       "max       235.000000"
      ]
     },
     "metadata": {},
     "output_type": "display_data"
    },
    {
     "data": {
      "text/plain": [
       "word_length    28.0\n",
       "Name: 0.9, dtype: float64"
      ]
     },
     "metadata": {},
     "output_type": "display_data"
    }
   ],
   "source": [
    "word_length = []\n",
    "for row in df['review_cleaned']:\n",
    "    word_length.append(len(row))\n",
    "\n",
    "display(pd.DataFrame(word_length, columns=['word_length']).describe())\n",
    "display(pd.DataFrame(word_length, columns=['word_length']).quantile(0.90))"
   ]
  },
  {
   "cell_type": "markdown",
   "metadata": {},
   "source": [
    "## 2. LSTM Model"
   ]
  },
  {
   "cell_type": "markdown",
   "metadata": {},
   "source": [
    "### Tokenize & Padding"
   ]
  },
  {
   "cell_type": "code",
   "execution_count": 15,
   "metadata": {},
   "outputs": [],
   "source": [
    "tokenizer_file = open('Tokenizer/tokens_30k.json', 'r')\n",
    "\n",
    "tokenizer = tokenizer_from_json(tokenizer_file.read())\n",
    "\n",
    "tokenizer_file.close()"
   ]
  },
  {
   "cell_type": "code",
   "execution_count": 16,
   "metadata": {},
   "outputs": [
    {
     "name": "stdout",
     "output_type": "stream",
     "text": [
      "X_shape: (264000, 120), X_min: 0, X_max: 29999\n"
     ]
    }
   ],
   "source": [
    "seq = tokenizer.texts_to_sequences(df['review_cleaned'])\n",
    "X = pad_sequences(seq, maxlen=120, padding='post')\n",
    "\n",
    "print(f'X_shape: {X.shape}, X_min: {np.min(X)}, X_max: {np.max(X)}')"
   ]
  },
  {
   "cell_type": "code",
   "execution_count": 17,
   "metadata": {},
   "outputs": [],
   "source": [
    "y = df['sentiment'].map({0:0, 2:1})"
   ]
  },
  {
   "cell_type": "markdown",
   "metadata": {},
   "source": [
    "### Train-test split"
   ]
  },
  {
   "cell_type": "code",
   "execution_count": 18,
   "metadata": {},
   "outputs": [
    {
     "name": "stdout",
     "output_type": "stream",
     "text": [
      "(168960, 120) (42240, 120) (52800, 120) (168960,) (42240,) (52800,)\n"
     ]
    }
   ],
   "source": [
    "X_train_valid, X_test, y_train_valid, y_test = train_test_split(X, y, test_size=0.2, random_state=42)\n",
    "X_train, X_valid, y_train, y_valid = train_test_split(X_train_valid, y_train_valid, test_size=0.2, random_state=42)\n",
    "print(X_train.shape, X_valid.shape, X_test.shape, y_train.shape, y_valid.shape, y_test.shape)"
   ]
  },
  {
   "cell_type": "code",
   "execution_count": 19,
   "metadata": {},
   "outputs": [],
   "source": [
    "EMBEDDING_FILEPATH = 'Embedding/w2v_emoji_sw_v4.w2v'"
   ]
  },
  {
   "cell_type": "code",
   "execution_count": 20,
   "metadata": {},
   "outputs": [],
   "source": [
    "embedding = Word2Vec.load(EMBEDDING_FILEPATH)"
   ]
  },
  {
   "cell_type": "code",
   "execution_count": 21,
   "metadata": {},
   "outputs": [],
   "source": [
    "def get_weight_matrix(embedding: Word2Vec, vocab):\n",
    "    vocab_size = len(vocab) + 1\n",
    "\n",
    "    weight_matrix = np.zeros((vocab_size, 100))\n",
    "\n",
    "    for word, i in vocab.items():\n",
    "        try:\n",
    "            weight_matrix[i] = embedding.wv.get_vector(word)\n",
    "        except:\n",
    "            continue\n",
    "    \n",
    "    return weight_matrix"
   ]
  },
  {
   "cell_type": "code",
   "execution_count": 22,
   "metadata": {},
   "outputs": [],
   "source": [
    "embedding_vectors = get_weight_matrix(embedding, tokenizer.word_index)"
   ]
  },
  {
   "cell_type": "code",
   "execution_count": 23,
   "metadata": {},
   "outputs": [],
   "source": [
    "vocab_size = len(tokenizer.word_index) + 1\n",
    "max_length = X.shape[1]"
   ]
  },
  {
   "cell_type": "markdown",
   "metadata": {},
   "source": [
    "### Create Model Layers"
   ]
  },
  {
   "cell_type": "code",
   "execution_count": 24,
   "metadata": {},
   "outputs": [
    {
     "name": "stdout",
     "output_type": "stream",
     "text": [
      "Model: \"sequential\"\n",
      "_________________________________________________________________\n",
      "Layer (type)                 Output Shape              Param #   \n",
      "=================================================================\n",
      "embedding (Embedding)        (None, 120, 100)          4536200   \n",
      "_________________________________________________________________\n",
      "spatial_dropout1d (SpatialDr (None, 120, 100)          0         \n",
      "_________________________________________________________________\n",
      "lstm (LSTM)                  (None, 64)                42240     \n",
      "_________________________________________________________________\n",
      "dense (Dense)                (None, 1)                 65        \n",
      "=================================================================\n",
      "Total params: 4,578,505\n",
      "Trainable params: 4,578,505\n",
      "Non-trainable params: 0\n",
      "_________________________________________________________________\n"
     ]
    }
   ],
   "source": [
    "embed_size = 100\n",
    "model = keras.models.Sequential([\n",
    "    keras.layers.Embedding(input_dim=vocab_size, output_dim=embed_size, weights=[embedding_vectors], input_length=max_length, trainable=True, mask_zero=True),\n",
    "    keras.layers.SpatialDropout1D(0.2),\n",
    "    keras.layers.LSTM(64, return_sequences=False, dropout=0.2, recurrent_dropout=0.2),\n",
    "    keras.layers.Dense(1, activation='sigmoid')\n",
    "])\n",
    "model.summary()"
   ]
  },
  {
   "cell_type": "markdown",
   "metadata": {},
   "source": [
    "### Training Model"
   ]
  },
  {
   "cell_type": "code",
   "execution_count": 26,
   "metadata": {},
   "outputs": [
    {
     "name": "stdout",
     "output_type": "stream",
     "text": [
      "Epoch 1/15\n",
      "5280/5280 [==============================] - 1219s 231ms/step - loss: 0.3734 - accuracy: 0.8490 - val_loss: 0.3843 - val_accuracy: 0.8499\n",
      "Epoch 2/15\n",
      "5280/5280 [==============================] - 1201s 227ms/step - loss: 0.3722 - accuracy: 0.8497 - val_loss: 0.3779 - val_accuracy: 0.8497\n",
      "Epoch 3/15\n",
      "5280/5280 [==============================] - 1216s 230ms/step - loss: 0.3703 - accuracy: 0.8493 - val_loss: 0.3809 - val_accuracy: 0.8504\n",
      "Epoch 4/15\n",
      "5280/5280 [==============================] - 1194s 226ms/step - loss: 0.3699 - accuracy: 0.8492 - val_loss: 0.3943 - val_accuracy: 0.8489\n",
      "Epoch 5/15\n",
      "5280/5280 [==============================] - 1211s 229ms/step - loss: 0.3701 - accuracy: 0.8492 - val_loss: 0.3878 - val_accuracy: 0.8482\n",
      "Epoch 6/15\n",
      "5280/5280 [==============================] - 1195s 226ms/step - loss: 0.3695 - accuracy: 0.8495 - val_loss: 0.4110 - val_accuracy: 0.8477\n",
      "Epoch 7/15\n",
      "5280/5280 [==============================] - 1209s 229ms/step - loss: 0.3695 - accuracy: 0.8493 - val_loss: 0.4092 - val_accuracy: 0.8483\n"
     ]
    }
   ],
   "source": [
    "early_stopping_cb = keras.callbacks.EarlyStopping(patience=5, restore_best_weights=True)\n",
    "optimizer = keras.optimizers.Adam(learning_rate=0.01)\n",
    "model.compile(loss=BinaryCrossentropy(), optimizer=optimizer, metrics=['accuracy'])\n",
    "history = model.fit(X_train, y_train, batch_size=32, epochs=15, validation_data=(X_valid, y_valid), callbacks=[early_stopping_cb])"
   ]
  },
  {
   "cell_type": "code",
   "execution_count": 27,
   "metadata": {},
   "outputs": [
    {
     "data": {
      "text/plain": [
       "<AxesSubplot:>"
      ]
     },
     "execution_count": 27,
     "metadata": {},
     "output_type": "execute_result"
    },
    {
     "data": {
      "image/png": "[encoded data removed]",
      "text/plain": [
       "<Figure size 432x288 with 1 Axes>"
      ]
     },
     "metadata": {
      "needs_background": "light"
     },
     "output_type": "display_data"
    }
   ],
   "source": [
    "pd.DataFrame(history.history).plot()"
   ]
  },
  {
   "cell_type": "code",
   "execution_count": 28,
   "metadata": {},
   "outputs": [
    {
     "name": "stdout",
     "output_type": "stream",
     "text": [
      "              precision    recall  f1-score   support\n",
      "\n",
      "           0       0.84      0.85      0.85     26251\n",
      "           1       0.85      0.84      0.85     26549\n",
      "\n",
      "    accuracy                           0.85     52800\n",
      "   macro avg       0.85      0.85      0.85     52800\n",
      "weighted avg       0.85      0.85      0.85     52800\n",
      "\n"
     ]
    },
    {
     "data": {
      "text/plain": [
       "<AxesSubplot:>"
      ]
     },
     "execution_count": 28,
     "metadata": {},
     "output_type": "execute_result"
    },
    {
     "data": {
      "image/png": "[encoded data removed]",
      "text/plain": [
       "<Figure size 432x288 with 2 Axes>"
      ]
     },
     "metadata": {
      "needs_background": "light"
     },
     "output_type": "display_data"
    }
   ],
   "source": [
    "y_pred = (model.predict(X_test) > 0.5).astype(\"int32\")\n",
    "\n",
    "print(classification_report(y_test, y_pred))\n",
    "\n",
    "sns.heatmap(confusion_matrix(y_test, y_pred), \n",
    "            annot=True, fmt='.0f', \n",
    "            xticklabels=['Predicted negative', 'Predicted positive'], \n",
    "            yticklabels=['Negative', 'Positive'])"
   ]
  },
  {
   "cell_type": "markdown",
   "metadata": {},
   "source": [
    "## Serializing Model"
   ]
  },
  {
   "cell_type": "code",
   "execution_count": 29,
   "metadata": {},
   "outputs": [],
   "source": [
    "MODEL_NAME = 'LSTM_Sentiment'\n",
    "MODEL_VERSION = (4, 0, 'E')\n",
    "MODEL_FILENAME = '_'.join([MODEL_NAME, '.'.join(map(str, MODEL_VERSION))])\n",
    "MODEL_FILENAME = os.path.join('Sentiment Analysis', 'LSTM', MODEL_FILENAME)"
   ]
  },
  {
   "cell_type": "code",
   "execution_count": 30,
   "metadata": {},
   "outputs": [
    {
     "name": "stdout",
     "output_type": "stream",
     "text": [
      "INFO:tensorflow:Assets written to: LSTM_Sentiment_4.0.E/assets\n"
     ]
    }
   ],
   "source": [
    "model.save(MODEL_FILENAME)"
   ]
  }
 ],
 "metadata": {
  "interpreter": {
   "hash": "32e70f296100b3ae0ed594ede0ea1438607fb4287e49106152503526f5363ac6"
  },
  "kernelspec": {
   "display_name": "Python 3.8.10 64-bit ('env': venv)",
   "language": "python",
   "name": "python3"
  },
  "language_info": {
   "codemirror_mode": {
    "name": "ipython",
    "version": 3
   },
   "file_extension": ".py",
   "mimetype": "text/x-python",
   "name": "python",
   "nbconvert_exporter": "python",
   "pygments_lexer": "ipython3",
   "version": "3.6.15"
  },
  "orig_nbformat": 4
 },
 "nbformat": 4,
 "nbformat_minor": 2
}
