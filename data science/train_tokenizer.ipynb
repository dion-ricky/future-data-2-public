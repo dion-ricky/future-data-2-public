{
 "cells": [
  {
   "cell_type": "code",
   "execution_count": 1,
   "metadata": {},
   "outputs": [],
   "source": [
    "import os\n",
    "import re\n",
    "from pathlib import Path\n",
    "\n",
    "from google.oauth2 import service_account\n",
    "from google.cloud import bigquery\n",
    "\n",
    "from keras.preprocessing.text import Tokenizer\n",
    "from keras.preprocessing.sequence import pad_sequences\n",
    "\n",
    "import emoji"
   ]
  },
  {
   "cell_type": "markdown",
   "metadata": {},
   "source": [
    "## Fetching Data"
   ]
  },
  {
   "cell_type": "code",
   "execution_count": 2,
   "metadata": {},
   "outputs": [],
   "source": [
    "key_path = '../airflow/credentials/future-data-track-1-sapporo.json'\n",
    "credentials = service_account.Credentials.from_service_account_file(\n",
    "    key_path,\n",
    "    scopes=[\"https://www.googleapis.com/auth/cloud-platform\"]\n",
    ")\n",
    "\n",
    "bigquery_client = bigquery.Client(\n",
    "    project='future-data-track-1',\n",
    "    credentials=credentials\n",
    ")"
   ]
  },
  {
   "cell_type": "code",
   "execution_count": 3,
   "metadata": {},
   "outputs": [],
   "source": [
    "query = \"\"\"\n",
    "SELECT * FROM sapporo_mart.sentiment_analysis\n",
    "\"\"\"\n",
    "\n",
    "query_job = bigquery_client.query(query)\n",
    "df = query_job.to_dataframe()"
   ]
  },
  {
   "cell_type": "code",
   "execution_count": 4,
   "metadata": {},
   "outputs": [],
   "source": [
    "df = df.dropna(axis=0)"
   ]
  },
  {
   "cell_type": "markdown",
   "metadata": {},
   "source": [
    "## Cleaning"
   ]
  },
  {
   "cell_type": "code",
   "execution_count": 5,
   "metadata": {},
   "outputs": [],
   "source": [
    "def extract_emojis(sentence):\n",
    "    return re.findall(emoji.get_emoji_regexp(), sentence)"
   ]
  },
  {
   "cell_type": "code",
   "execution_count": 6,
   "metadata": {},
   "outputs": [],
   "source": [
    "def preprocessing_text(texts):\n",
    "    emojis = extract_emojis(texts)\n",
    "    texts = re.sub(r'<.*?>', '', texts)\n",
    "    texts = re.sub(r'[^a-zA-Z]', ' ', texts)\n",
    "    texts = list(filter(lambda x: x, [x.lower() for x in texts.split(\" \")]))\n",
    "\n",
    "    return texts + emojis"
   ]
  },
  {
   "cell_type": "code",
   "execution_count": 7,
   "metadata": {},
   "outputs": [],
   "source": [
    "df['review_cleaned'] = df['review'].apply(lambda x : preprocessing_text(x))"
   ]
  },
  {
   "cell_type": "code",
   "execution_count": 8,
   "metadata": {},
   "outputs": [
    {
     "data": {
      "text/html": [
       "<div>\n",
       "<style scoped>\n",
       "    .dataframe tbody tr th:only-of-type {\n",
       "        vertical-align: middle;\n",
       "    }\n",
       "\n",
       "    .dataframe tbody tr th {\n",
       "        vertical-align: top;\n",
       "    }\n",
       "\n",
       "    .dataframe thead th {\n",
       "        text-align: right;\n",
       "    }\n",
       "</style>\n",
       "<table border=\"1\" class=\"dataframe\">\n",
       "  <thead>\n",
       "    <tr style=\"text-align: right;\">\n",
       "      <th></th>\n",
       "      <th>review</th>\n",
       "      <th>rating</th>\n",
       "      <th>sentiment</th>\n",
       "      <th>review_cleaned</th>\n",
       "    </tr>\n",
       "  </thead>\n",
       "  <tbody>\n",
       "    <tr>\n",
       "      <th>0</th>\n",
       "      <td>Apk sangat menganggu, saat lagi nonton anime t...</td>\n",
       "      <td>1</td>\n",
       "      <td>0</td>\n",
       "      <td>[apk, sangat, menganggu, saat, lagi, nonton, a...</td>\n",
       "    </tr>\n",
       "    <tr>\n",
       "      <th>1</th>\n",
       "      <td>Skrg ga bisa masukan kode promo untuk byr tagi...</td>\n",
       "      <td>1</td>\n",
       "      <td>0</td>\n",
       "      <td>[skrg, ga, bisa, masukan, kode, promo, untuk, ...</td>\n",
       "    </tr>\n",
       "    <tr>\n",
       "      <th>2</th>\n",
       "      <td>Aplikasi lelet mau daftar akun aja gagal nungg...</td>\n",
       "      <td>1</td>\n",
       "      <td>0</td>\n",
       "      <td>[aplikasi, lelet, mau, daftar, akun, aja, gaga...</td>\n",
       "    </tr>\n",
       "    <tr>\n",
       "      <th>3</th>\n",
       "      <td>Susah d sowload ny?...</td>\n",
       "      <td>1</td>\n",
       "      <td>0</td>\n",
       "      <td>[susah, d, sowload, ny]</td>\n",
       "    </tr>\n",
       "    <tr>\n",
       "      <th>4</th>\n",
       "      <td>Lupa username,tp cs 3 hari berturut turut zonk...</td>\n",
       "      <td>1</td>\n",
       "      <td>0</td>\n",
       "      <td>[lupa, username, tp, cs, hari, berturut, turut...</td>\n",
       "    </tr>\n",
       "  </tbody>\n",
       "</table>\n",
       "</div>"
      ],
      "text/plain": [
       "                                              review  rating  sentiment  \\\n",
       "0  Apk sangat menganggu, saat lagi nonton anime t...       1          0   \n",
       "1  Skrg ga bisa masukan kode promo untuk byr tagi...       1          0   \n",
       "2  Aplikasi lelet mau daftar akun aja gagal nungg...       1          0   \n",
       "3                             Susah d sowload ny?...       1          0   \n",
       "4  Lupa username,tp cs 3 hari berturut turut zonk...       1          0   \n",
       "\n",
       "                                      review_cleaned  \n",
       "0  [apk, sangat, menganggu, saat, lagi, nonton, a...  \n",
       "1  [skrg, ga, bisa, masukan, kode, promo, untuk, ...  \n",
       "2  [aplikasi, lelet, mau, daftar, akun, aja, gaga...  \n",
       "3                            [susah, d, sowload, ny]  \n",
       "4  [lupa, username, tp, cs, hari, berturut, turut...  "
      ]
     },
     "execution_count": 8,
     "metadata": {},
     "output_type": "execute_result"
    }
   ],
   "source": [
    "df.head()"
   ]
  },
  {
   "cell_type": "code",
   "execution_count": 9,
   "metadata": {},
   "outputs": [],
   "source": [
    "tokenizer = Tokenizer(num_words=50000)"
   ]
  },
  {
   "cell_type": "code",
   "execution_count": null,
   "metadata": {},
   "outputs": [],
   "source": [
    "tokenizer.fit_on_texts(df['review_cleaned'])\n",
    "seq = tokenizer.texts_to_sequences(df['review_cleaned'])\n",
    "X = pad_sequences(seq, maxlen=120, padding='post')"
   ]
  },
  {
   "cell_type": "code",
   "execution_count": null,
   "metadata": {},
   "outputs": [],
   "source": [
    "path = 'Sentiment Analysis/Tokenizer/tokens_50k_120.json'\n",
    "\n",
    "Path(os.path.dirname(path)).mkdir(parents=True, exist_ok=True)\n",
    "\n",
    "with open(path, 'w+') as _f:\n",
    "    _f.write(tokenizer.to_json())"
   ]
  }
 ],
 "metadata": {
  "interpreter": {
   "hash": "557dfa72913784ee823994b50ca5bf1f4543af9a8140e691f7ffa1d41b7d01ae"
  },
  "kernelspec": {
   "display_name": "Python 3.6.15 64-bit ('venv': venv)",
   "language": "python",
   "name": "python3"
  },
  "language_info": {
   "codemirror_mode": {
    "name": "ipython",
    "version": 3
   },
   "file_extension": ".py",
   "mimetype": "text/x-python",
   "name": "python",
   "nbconvert_exporter": "python",
   "pygments_lexer": "ipython3",
   "version": "3.6.15"
  },
  "orig_nbformat": 4
 },
 "nbformat": 4,
 "nbformat_minor": 2
}
