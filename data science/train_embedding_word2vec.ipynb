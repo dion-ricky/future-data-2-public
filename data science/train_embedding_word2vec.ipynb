{
 "cells": [
  {
   "cell_type": "code",
   "execution_count": 1,
   "metadata": {},
   "outputs": [],
   "source": [
    "import re\n",
    "\n",
    "# Google cloud\n",
    "from google.oauth2 import service_account\n",
    "from google.cloud import bigquery\n",
    "\n",
    "from gensim.models import Word2Vec\n",
    "\n",
    "import emoji"
   ]
  },
  {
   "cell_type": "code",
   "execution_count": 2,
   "metadata": {},
   "outputs": [],
   "source": [
    "key_path = '../airflow/credentials/future-data-track-1-sapporo.json'\n",
    "credentials = service_account.Credentials.from_service_account_file(\n",
    "    key_path,\n",
    "    scopes=[\"https://www.googleapis.com/auth/cloud-platform\"]\n",
    ")\n",
    "\n",
    "bigquery_client = bigquery.Client(\n",
    "    project='future-data-track-1',\n",
    "    credentials=credentials\n",
    ")\n",
    "\n",
    "query = \"\"\"\n",
    "SELECT * FROM sapporo_mart.sentiment_analysis\n",
    "\"\"\"\n",
    "\n",
    "query_job = bigquery_client.query(query)\n",
    "df = query_job.to_dataframe()\n",
    "\n",
    "del query\n",
    "del query_job"
   ]
  },
  {
   "cell_type": "code",
   "execution_count": 3,
   "metadata": {},
   "outputs": [
    {
     "name": "stdout",
     "output_type": "stream",
     "text": [
      "                                              review  rating  sentiment\n",
      "0  Apk sangat menganggu, saat lagi nonton anime t...       1          0\n",
      "1  Skrg ga bisa masukan kode promo untuk byr tagi...       1          0\n",
      "2  Aplikasi lelet mau daftar akun aja gagal nungg...       1          0\n",
      "3                             Susah d sowload ny?...       1          0\n",
      "4  Lupa username,tp cs 3 hari berturut turut zonk...       1          0\n"
     ]
    }
   ],
   "source": [
    "print(df.head())"
   ]
  },
  {
   "cell_type": "code",
   "execution_count": 4,
   "metadata": {},
   "outputs": [],
   "source": [
    "df.isna().sum()\n",
    "df = df.dropna(axis=0)"
   ]
  },
  {
   "cell_type": "code",
   "execution_count": 5,
   "metadata": {},
   "outputs": [
    {
     "name": "stdout",
     "output_type": "stream",
     "text": [
      "<class 'pandas.core.frame.DataFrame'>\n",
      "Int64Index: 2716869 entries, 0 to 2716909\n",
      "Data columns (total 3 columns):\n",
      " #   Column     Dtype \n",
      "---  ------     ----- \n",
      " 0   review     object\n",
      " 1   rating     int64 \n",
      " 2   sentiment  int64 \n",
      "dtypes: int64(2), object(1)\n",
      "memory usage: 82.9+ MB\n"
     ]
    }
   ],
   "source": [
    "df.info()"
   ]
  },
  {
   "cell_type": "code",
   "execution_count": 6,
   "metadata": {},
   "outputs": [],
   "source": [
    "def extract_emojis(sentence):\n",
    "    return re.findall(emoji.get_emoji_regexp(), sentence)\n",
    "\n",
    "def preprocessing_text(texts):\n",
    "    emojis = extract_emojis(texts)\n",
    "    texts = re.sub(r'<.*?>', '', texts)\n",
    "    texts = re.sub(r'[^a-zA-Z]', ' ', texts)\n",
    "    texts = list(filter(lambda x: x, [x.lower() for x in texts.split(\" \")]))\n",
    "\n",
    "    return texts + emojis"
   ]
  },
  {
   "cell_type": "code",
   "execution_count": 7,
   "metadata": {},
   "outputs": [
    {
     "name": "stdout",
     "output_type": "stream",
     "text": [
      "                                              review  rating  sentiment  \\\n",
      "0  Apk sangat menganggu, saat lagi nonton anime t...       1          0   \n",
      "1  Skrg ga bisa masukan kode promo untuk byr tagi...       1          0   \n",
      "2  Aplikasi lelet mau daftar akun aja gagal nungg...       1          0   \n",
      "3                             Susah d sowload ny?...       1          0   \n",
      "4  Lupa username,tp cs 3 hari berturut turut zonk...       1          0   \n",
      "\n",
      "                                      review_cleaned  \n",
      "0  [apk, sangat, menganggu, saat, lagi, nonton, a...  \n",
      "1  [skrg, ga, bisa, masukan, kode, promo, untuk, ...  \n",
      "2  [aplikasi, lelet, mau, daftar, akun, aja, gaga...  \n",
      "3                            [susah, d, sowload, ny]  \n",
      "4  [lupa, username, tp, cs, hari, berturut, turut...  \n"
     ]
    }
   ],
   "source": [
    "df['review_cleaned'] = df['review'].apply(lambda x : preprocessing_text(x))\n",
    "\n",
    "print(df.head())"
   ]
  },
  {
   "cell_type": "code",
   "execution_count": 8,
   "metadata": {},
   "outputs": [],
   "source": [
    "embedding = Word2Vec(df['review_cleaned'], vector_size=100, window=5, workers=2, min_count=2, epochs=100)"
   ]
  },
  {
   "cell_type": "code",
   "execution_count": 9,
   "metadata": {},
   "outputs": [
    {
     "data": {
      "text/plain": [
       "[('dev', 0.6985407471656799),\n",
       " ('pengembang', 0.690396249294281),\n",
       " ('mimin', 0.6532716155052185),\n",
       " ('developernya', 0.65157550573349),\n",
       " ('pembuat', 0.6131553053855896),\n",
       " ('devoloper', 0.5818763971328735),\n",
       " ('devloper', 0.5817750692367554),\n",
       " ('development', 0.5784115195274353),\n",
       " ('pengelola', 0.5748855471611023),\n",
       " ('tim', 0.5703144073486328)]"
      ]
     },
     "execution_count": 9,
     "metadata": {},
     "output_type": "execute_result"
    }
   ],
   "source": [
    "embedding.wv.most_similar('developer')"
   ]
  },
  {
   "cell_type": "code",
   "execution_count": 10,
   "metadata": {},
   "outputs": [],
   "source": [
    "embedding.save('Sentiment Analysis/Embedding/w2v_emoji_sw_v4.w2v')"
   ]
  },
  {
   "cell_type": "code",
   "execution_count": 11,
   "metadata": {},
   "outputs": [
    {
     "data": {
      "text/plain": [
       "[('kurirnya', 0.8750789165496826),\n",
       " ('expedisi', 0.7901881337165833),\n",
       " ('pengirim', 0.7674428224563599),\n",
       " ('ekspedisi', 0.7506662011146545),\n",
       " ('ekpedisi', 0.7155596017837524),\n",
       " ('kulir', 0.6820976138114929),\n",
       " ('jne', 0.6645514369010925),\n",
       " ('kurirny', 0.658267080783844),\n",
       " ('pengirimnya', 0.6571032404899597),\n",
       " ('jnt', 0.6560195684432983)]"
      ]
     },
     "execution_count": 11,
     "metadata": {},
     "output_type": "execute_result"
    }
   ],
   "source": [
    "embedding.wv.most_similar(\"kurir\")"
   ]
  }
 ],
 "metadata": {
  "interpreter": {
   "hash": "557dfa72913784ee823994b50ca5bf1f4543af9a8140e691f7ffa1d41b7d01ae"
  },
  "kernelspec": {
   "display_name": "Python 3.6.15 64-bit ('venv': venv)",
   "language": "python",
   "name": "python3"
  },
  "language_info": {
   "codemirror_mode": {
    "name": "ipython",
    "version": 3
   },
   "file_extension": ".py",
   "mimetype": "text/x-python",
   "name": "python",
   "nbconvert_exporter": "python",
   "pygments_lexer": "ipython3",
   "version": "3.6.15"
  },
  "orig_nbformat": 4
 },
 "nbformat": 4,
 "nbformat_minor": 2
}
