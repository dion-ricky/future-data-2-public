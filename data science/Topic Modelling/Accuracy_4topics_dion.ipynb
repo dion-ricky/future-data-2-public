{
  "nbformat": 4,
  "nbformat_minor": 0,
  "metadata": {
    "colab": {
      "name": "Accuracy_4topics_dion_baseline.ipynb",
      "provenance": []
    },
    "kernelspec": {
      "name": "python3",
      "display_name": "Python 3"
    },
    "language_info": {
      "name": "python"
    }
  },
  "cells": [
    {
      "cell_type": "code",
      "execution_count": 3,
      "metadata": {
        "id": "Zml2dLdv4Cvv"
      },
      "outputs": [],
      "source": [
        "import pandas as pd\n",
        "df = pd.read_csv('data_processed_dion_202202111232.csv')"
      ]
    },
    {
      "cell_type": "code",
      "source": [
        "df.dropna(subset=['Label'], inplace=True)"
      ],
      "metadata": {
        "id": "z8TnERJ3cjQl"
      },
      "execution_count": 4,
      "outputs": []
    },
    {
      "cell_type": "code",
      "source": [
        "df[['Label', 'dominant_topic']] = df[['Label', 'dominant_topic']].astype(int)"
      ],
      "metadata": {
        "id": "nOIeJY4Ocl0i"
      },
      "execution_count": 5,
      "outputs": []
    },
    {
      "cell_type": "code",
      "source": [
        "from sklearn.metrics import classification_report\n",
        "\n",
        "print(classification_report(df['Label'], df['dominant_topic']))"
      ],
      "metadata": {
        "colab": {
          "base_uri": "https://localhost:8080/"
        },
        "id": "CyButiVLcnnj",
        "outputId": "529dec07-f463-4326-fcc7-77aef365ecbd"
      },
      "execution_count": 6,
      "outputs": [
        {
          "output_type": "stream",
          "name": "stdout",
          "text": [
            "              precision    recall  f1-score   support\n",
            "\n",
            "           0       1.00      0.64      0.78        78\n",
            "           1       1.00      0.98      0.99        51\n",
            "           2       0.62      0.94      0.75        33\n",
            "           3       0.74      0.97      0.84        38\n",
            "\n",
            "    accuracy                           0.84       200\n",
            "   macro avg       0.84      0.88      0.84       200\n",
            "weighted avg       0.89      0.84      0.84       200\n",
            "\n"
          ]
        }
      ]
    },
    {
      "cell_type": "code",
      "source": [
        "df_90 = df[df['topic_perc_contrib']>= 0.9]"
      ],
      "metadata": {
        "id": "DFOjOM3AcpBP"
      },
      "execution_count": 7,
      "outputs": []
    },
    {
      "cell_type": "code",
      "source": [
        "from sklearn.metrics import classification_report\n",
        "\n",
        "print(classification_report(df_90['Label'], df_90['dominant_topic']))"
      ],
      "metadata": {
        "colab": {
          "base_uri": "https://localhost:8080/"
        },
        "id": "tFwcwoGmcq4E",
        "outputId": "af02dad3-0eeb-4182-fe87-f407ca0695c1"
      },
      "execution_count": 8,
      "outputs": [
        {
          "output_type": "stream",
          "name": "stdout",
          "text": [
            "              precision    recall  f1-score   support\n",
            "\n",
            "           0       1.00      0.82      0.90        61\n",
            "           1       1.00      0.98      0.99        51\n",
            "           2       0.73      0.80      0.76        10\n",
            "           3       0.74      1.00      0.85        31\n",
            "\n",
            "    accuracy                           0.91       153\n",
            "   macro avg       0.87      0.90      0.88       153\n",
            "weighted avg       0.93      0.91      0.91       153\n",
            "\n"
          ]
        }
      ]
    }
  ]
}